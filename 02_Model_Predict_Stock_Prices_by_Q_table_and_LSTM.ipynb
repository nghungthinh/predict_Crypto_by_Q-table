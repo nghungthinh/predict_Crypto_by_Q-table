{
  "cells": [
    {
      "cell_type": "code",
      "execution_count": 1,
      "metadata": {
        "colab": {
          "base_uri": "https://localhost:8080/"
        },
        "id": "sqHqMu-n6uFa",
        "outputId": "e1902a12-94d8-4be5-91d2-8e9e75221a29"
      },
      "outputs": [
        {
          "output_type": "stream",
          "name": "stdout",
          "text": [
            "Looking in indexes: https://pypi.org/simple, https://us-python.pkg.dev/colab-wheels/public/simple/\n",
            "Requirement already satisfied: pandas_datareader in /usr/local/lib/python3.7/dist-packages (0.9.0)\n",
            "Requirement already satisfied: lxml in /usr/local/lib/python3.7/dist-packages (from pandas_datareader) (4.2.6)\n",
            "Requirement already satisfied: pandas>=0.23 in /usr/local/lib/python3.7/dist-packages (from pandas_datareader) (1.3.5)\n",
            "Requirement already satisfied: requests>=2.19.0 in /usr/local/lib/python3.7/dist-packages (from pandas_datareader) (2.23.0)\n",
            "Requirement already satisfied: numpy>=1.17.3 in /usr/local/lib/python3.7/dist-packages (from pandas>=0.23->pandas_datareader) (1.21.6)\n",
            "Requirement already satisfied: pytz>=2017.3 in /usr/local/lib/python3.7/dist-packages (from pandas>=0.23->pandas_datareader) (2022.1)\n",
            "Requirement already satisfied: python-dateutil>=2.7.3 in /usr/local/lib/python3.7/dist-packages (from pandas>=0.23->pandas_datareader) (2.8.2)\n",
            "Requirement already satisfied: six>=1.5 in /usr/local/lib/python3.7/dist-packages (from python-dateutil>=2.7.3->pandas>=0.23->pandas_datareader) (1.15.0)\n",
            "Requirement already satisfied: idna<3,>=2.5 in /usr/local/lib/python3.7/dist-packages (from requests>=2.19.0->pandas_datareader) (2.10)\n",
            "Requirement already satisfied: urllib3!=1.25.0,!=1.25.1,<1.26,>=1.21.1 in /usr/local/lib/python3.7/dist-packages (from requests>=2.19.0->pandas_datareader) (1.24.3)\n",
            "Requirement already satisfied: chardet<4,>=3.0.2 in /usr/local/lib/python3.7/dist-packages (from requests>=2.19.0->pandas_datareader) (3.0.4)\n",
            "Requirement already satisfied: certifi>=2017.4.17 in /usr/local/lib/python3.7/dist-packages (from requests>=2.19.0->pandas_datareader) (2022.6.15)\n"
          ]
        }
      ],
      "source": [
        "!pip install pandas_datareader"
      ]
    },
    {
      "cell_type": "code",
      "execution_count": 2,
      "metadata": {
        "id": "lm3vkJDl6jX7"
      },
      "outputs": [],
      "source": [
        "from datetime import datetime\n",
        "import pandas as pd\n",
        "import numpy as np\n",
        "import matplotlib.pyplot as plt\n",
        "from keras.models import Sequential\n",
        "from keras.layers import Dense, Dropout, LSTM\n",
        "from tensorflow import keras\n",
        "from sklearn.preprocessing import MinMaxScaler"
      ]
    },
    {
      "cell_type": "code",
      "execution_count": 3,
      "metadata": {
        "colab": {
          "base_uri": "https://localhost:8080/"
        },
        "id": "agsEdlOX6jX_",
        "outputId": "94720361-b63b-471e-ba73-05246217e068"
      },
      "outputs": [
        {
          "output_type": "stream",
          "name": "stdout",
          "text": [
            "         Close\n",
            "0     0.001415\n",
            "1     0.001163\n",
            "2     0.001201\n",
            "3     0.001038\n",
            "4     0.001211\n",
            "...        ...\n",
            "1527  0.183549\n",
            "1528  0.185103\n",
            "1529  0.177176\n",
            "1530  0.171145\n",
            "1531  0.166144\n",
            "\n",
            "[1532 rows x 1 columns]\n"
          ]
        }
      ],
      "source": [
        "df = pd.read_csv('/content/DOGE-USD.csv')\n",
        "data = df.filter(['Close'])\n",
        "print(data)\n",
        "#plt.plot(data['Close'])"
      ]
    },
    {
      "cell_type": "code",
      "execution_count": 4,
      "metadata": {
        "colab": {
          "base_uri": "https://localhost:8080/"
        },
        "id": "vFoQjJDd6jYA",
        "outputId": "b348f6fe-bc03-400e-b6f6-a9fb29e81ca5"
      },
      "outputs": [
        {
          "output_type": "execute_result",
          "data": {
            "text/plain": [
              "1532"
            ]
          },
          "metadata": {},
          "execution_count": 4
        }
      ],
      "source": [
        "scaler = MinMaxScaler(feature_range=(0,1))\n",
        "scaled_data = scaler.fit_transform(data['Close'].values.reshape(-1,1))\n",
        "len(scaled_data)"
      ]
    },
    {
      "cell_type": "code",
      "execution_count": 5,
      "metadata": {
        "colab": {
          "base_uri": "https://localhost:8080/"
        },
        "id": "ekVAwY196jYA",
        "outputId": "461652ec-cb93-47f4-b098-bf08b261fef6"
      },
      "outputs": [
        {
          "output_type": "execute_result",
          "data": {
            "text/plain": [
              "(1472, 60, 1)"
            ]
          },
          "metadata": {},
          "execution_count": 5
        }
      ],
      "source": [
        "prediction_days = 60\n",
        "x_train = []\n",
        "y_train = []\n",
        "for x in range(prediction_days, len(scaled_data)):\n",
        "  x_train.append(scaled_data[x-prediction_days:x, 0])\n",
        "  y_train.append(scaled_data[x, 0])\n",
        "x_train, y_train = np.array(x_train), np.array(y_train)\n",
        "x_train = np.reshape(x_train, (x_train.shape[0], x_train.shape[1], 1))\n",
        "y_train = np.reshape(y_train, (y_train.shape[0],1))\n",
        "x_train.shape"
      ]
    },
    {
      "cell_type": "code",
      "execution_count": null,
      "metadata": {
        "id": "AB5A0nUO6jYB"
      },
      "outputs": [],
      "source": [
        "# Build the LSTM Model\n",
        "# Tao no-ron\n",
        "# model = Sequential() \n",
        "# model.add(LSTM(units = 50, return_sequences = True, input_shape = (x_train.shape[1], 1)))\n",
        "# model.add(Dropout(0.2))\n",
        "# model.add(LSTM(units = 50, return_sequences = True))\n",
        "# model.add(Dropout(0.2))\n",
        "# model.add(LSTM(units = 50, return_sequences = True))\n",
        "# model.add(Dropout(0.2))\n",
        "# model.add(LSTM(units = 50))\n",
        "# model.add(Dropout(0.2))\n",
        "# # Adding the output layer\n",
        "# model.add(Dense(units = 1))\n",
        "# # Compiling the RNN\n",
        "# model.compile(optimizer = 'adam', loss = 'mean_squared_error')\n",
        "# # Fitting the RNN to the Training set\n",
        "# model.fit(x_train, y_train, epochs = 100, batch_size = 32)\n",
        "# model.save('F:\\Price_Close.h5')"
      ]
    },
    {
      "cell_type": "code",
      "execution_count": 6,
      "metadata": {
        "colab": {
          "base_uri": "https://localhost:8080/"
        },
        "id": "JyivQnFG6jYC",
        "outputId": "21fdcea4-5589-44d5-afa6-500ab69d0656"
      },
      "outputs": [
        {
          "output_type": "stream",
          "name": "stdout",
          "text": [
            "ACtual (366,)\n"
          ]
        }
      ],
      "source": [
        "df1 = pd.read_csv('/content/DOGE_TEST.csv')\n",
        "test_data=df1.filter(['Close'])\n",
        "actual_prices = test_data['Close'].values\n",
        "print(\"ACtual\",actual_prices.shape)\n",
        "total_dataset = pd.concat((data['Close'],test_data['Close']), axis = 0)\n",
        "inputs = total_dataset[len(total_dataset) - len(test_data) - prediction_days:].values\n",
        "inputs = inputs.reshape(-1,1)\n",
        "inputs = scaler.transform(inputs)"
      ]
    },
    {
      "cell_type": "code",
      "execution_count": 7,
      "metadata": {
        "colab": {
          "base_uri": "https://localhost:8080/"
        },
        "id": "qlOooLpC6jYC",
        "outputId": "4d3ea687-7028-42aa-dbfe-386e70331426"
      },
      "outputs": [
        {
          "output_type": "execute_result",
          "data": {
            "text/plain": [
              "(366, 1)"
            ]
          },
          "metadata": {},
          "execution_count": 7
        }
      ],
      "source": [
        "#Prediction on test data\n",
        "x_test = []\n",
        "for x in range(prediction_days, len(inputs)): \n",
        "  x_test.append(inputs[x-prediction_days:x, 0])\n",
        "x_test = np.array(x_test)\n",
        "x_test = np.reshape(x_test, (x_test.shape[0], x_test.shape[1], 1))\n",
        "\n",
        "model = keras.models.load_model('/content/Price_Close.h5')\n",
        "predicted_prices = model.predict(x_test)\n",
        "predicted_prices = scaler.inverse_transform(predicted_prices)\n",
        "predicted_prices.shape"
      ]
    },
    {
      "cell_type": "code",
      "execution_count": 8,
      "metadata": {
        "colab": {
          "base_uri": "https://localhost:8080/",
          "height": 621
        },
        "id": "XpftAIvU6jYD",
        "outputId": "eaeafd47-8379-493f-f4e8-2edc0280574c"
      },
      "outputs": [
        {
          "output_type": "display_data",
          "data": {
            "text/plain": [
              "<Figure size 720x720 with 1 Axes>"
            ],
            "image/png": "[encoded data removed]"
          },
          "metadata": {
            "needs_background": "light"
          }
        }
      ],
      "source": [
        "plt.figure(figsize=(10,10))\n",
        "plt.title('DOGE COIN')\n",
        "plt.xlabel('Days')\n",
        "plt.ylabel('Stock Price')\n",
        "plt.plot(actual_prices, color=\"blue\")\n",
        "plt.plot(predicted_prices, color=\"red\")\n",
        "plt.legend(['Actual', 'Predict'])\n",
        "plt.show()"
      ]
    },
    {
      "cell_type": "code",
      "execution_count": 9,
      "metadata": {
        "id": "0TtAQtlA6jYE"
      },
      "outputs": [],
      "source": [
        "model = keras.models.load_model('/content/Price_Close.h5')"
      ]
    },
    {
      "cell_type": "code",
      "execution_count": 10,
      "metadata": {
        "colab": {
          "base_uri": "https://localhost:8080/",
          "height": 283
        },
        "id": "bCrxYQ976jYF",
        "outputId": "d380b4f1-111d-4fb5-a3ec-11bc4f5f6208"
      },
      "outputs": [
        {
          "output_type": "stream",
          "name": "stdout",
          "text": [
            "(366, 1)\n"
          ]
        },
        {
          "output_type": "display_data",
          "data": {
            "text/plain": [
              "<Figure size 432x288 with 1 Axes>"
            ],
            "image/png": "[encoded data removed]"
          },
          "metadata": {
            "needs_background": "light"
          }
        }
      ],
      "source": [
        "#Loss\n",
        "y_predict = predicted_prices\n",
        "y_actual = actual_prices\n",
        "e = np.zeros((len(y_predict+1),1))\n",
        "e_t = []\n",
        "y_t = np.zeros((len(y_predict+1),1))\n",
        "for i in range(1,len(y_predict)):\n",
        "    e[i] = np.abs(y_actual[i-1]-y_predict[i-1])\n",
        "    y_t[i] = y_predict[i-1] + 0.5*e[i-1] \n",
        "MAPE = np.abs((y_actual-y_predict))\n",
        "# plt.plot(y_t,'green')\n",
        "# plt.plot(y_actual,'red')\n",
        "plt.plot(e,'red')\n",
        "print(e.shape)\n",
        "plt.show()"
      ]
    },
    {
      "cell_type": "code",
      "execution_count": 11,
      "metadata": {
        "id": "zNjmCPhDv0Nh"
      },
      "outputs": [],
      "source": [
        "from sklearn.linear_model import LinearRegression"
      ]
    },
    {
      "cell_type": "markdown",
      "metadata": {
        "id": "PDh9ALvunAZS"
      },
      "source": [
        "Sefl Prediction by Linear"
      ]
    },
    {
      "cell_type": "code",
      "execution_count": 12,
      "metadata": {
        "id": "rtSIcbXp2t_z"
      },
      "outputs": [],
      "source": [
        "def Linear(x_trend = [],y_trend = []):\n",
        "  x_trend = x_trend.reshape(-1,1)\n",
        "  y_trend = y_trend.reshape(-1,1)\n",
        "  lrg = LinearRegression()\n",
        "  lrg.fit(x_trend,y_trend)\n",
        "  y_pred = lrg.predict(x)\n",
        "  y_pred.shape\n",
        "  wo = lrg.intercept_\n",
        "  w1 = lrg.coef_\n",
        "  #plt.plot(x,y_pred)\n",
        "  #y_50 = x[50]*w1 + wo\n",
        "  return w1,wo"
      ]
    },
    {
      "cell_type": "markdown",
      "metadata": {
        "id": "Lm3c5tDFnPiQ"
      },
      "source": [
        "Test Parameter"
      ]
    },
    {
      "cell_type": "code",
      "execution_count": 13,
      "metadata": {
        "id": "A6-xrqIWn8y4"
      },
      "outputs": [],
      "source": [
        "#Test\n",
        "df1 = pd.read_csv('/content/DOGE_TEST.csv').values\n",
        "x = np.zeros((len(df1),1))\n",
        "y = np.zeros((len(df1),1))\n",
        "for i in range(0,len(df1)):\n",
        "  x[i] = i;\n",
        "  y[i] = predicted_prices[i,0]\n",
        "x = x.reshape(-1,1)\n",
        "y = y.reshape(-1,1)"
      ]
    },
    {
      "cell_type": "code",
      "execution_count": 14,
      "metadata": {
        "colab": {
          "base_uri": "https://localhost:8080/"
        },
        "id": "puLRBO0d3fxn",
        "outputId": "2a1892aa-74c9-43b5-8037-784df56196aa"
      },
      "outputs": [
        {
          "output_type": "stream",
          "name": "stdout",
          "text": [
            "[[-0.00051573]]\n",
            "[0.30924048]\n"
          ]
        }
      ],
      "source": [
        "a,b = Linear(x,y)\n",
        "print(a)\n",
        "print(b)"
      ]
    },
    {
      "cell_type": "markdown",
      "metadata": {
        "id": "2loHQPOfoGuF"
      },
      "source": [
        "Separation of line prediction trend with batch size is 50"
      ]
    },
    {
      "cell_type": "code",
      "execution_count": 15,
      "metadata": {
        "colab": {
          "base_uri": "https://localhost:8080/"
        },
        "id": "Krikw09JeDBG",
        "outputId": "a4ed6a09-b6bb-4f5f-c18e-6e69205ba7f4"
      },
      "outputs": [
        {
          "output_type": "stream",
          "name": "stdout",
          "text": [
            "7\n",
            "[ 0.00843736 -0.00300216  0.0030258  -0.00092735 -0.00189745 -0.00046351\n",
            " -0.00074337]\n",
            "[ 0.10075336  0.48946951 -0.14912365  0.38599573  0.64987664  0.28369289\n",
            "  0.36897964]\n"
          ]
        }
      ],
      "source": [
        "scale = int(len(df1)/50)\n",
        "x = np.zeros((len(df1),1))\n",
        "y = np.zeros((len(df1),1))\n",
        "a = np.array(range(0,scale),dtype=float)\n",
        "b = np.array(range(0,scale),dtype=float) #y=ax+b\n",
        "print(scale)\n",
        "for step in range(0,len(df1)):\n",
        "  x[step] = step\n",
        "  y[step] = predicted_prices[step,0]\n",
        "for i in range(0,scale):\n",
        "  a[i],b[i] = Linear(x[i*50:(i+1)*50,:],y[i*50:(i+1)*50,:])\n",
        "print(a)\n",
        "print(b)"
      ]
    },
    {
      "cell_type": "markdown",
      "metadata": {
        "id": "50QynQ9moZ3i"
      },
      "source": [
        "Shown graphically"
      ]
    },
    {
      "cell_type": "code",
      "execution_count": 16,
      "metadata": {
        "colab": {
          "base_uri": "https://localhost:8080/",
          "height": 573
        },
        "id": "MM9ikkSnjoFl",
        "outputId": "e64b2f13-8f00-4408-ff8d-817338b129b5"
      },
      "outputs": [
        {
          "output_type": "display_data",
          "data": {
            "text/plain": [
              "<Figure size 432x288 with 1 Axes>"
            ],
            "image/png": "[encoded data removed]"
          },
          "metadata": {
            "needs_background": "light"
          }
        },
        {
          "output_type": "display_data",
          "data": {
            "text/plain": [
              "<Figure size 432x288 with 1 Axes>"
            ],
            "image/png": "[encoded data removed]"
          },
          "metadata": {
            "needs_background": "light"
          }
        }
      ],
      "source": [
        "x_trend = np.array(range(0,len(df1)),dtype=float)\n",
        "y_trend = np.array(y[:,0],dtype=float)\n",
        "x_trend_predict = np.array(range(0,len(df1)),dtype=float)\n",
        "y_trend_predict = np.array(range(0,len(df1)),dtype=float)\n",
        "maxloop = 0\n",
        "interval = 50\n",
        "for step in range(0,scale):\n",
        "  for i in range(0,interval):\n",
        "    maxloop = maxloop + 1\n",
        "    y_trend_predict[maxloop] = a[step]*x_trend[maxloop] + b[step]\n",
        "  plt.plot(x_trend[step*interval:maxloop],y_trend_predict[step*interval:maxloop],color='black')\n",
        "#Đồ thị có đường xu hướng\n",
        "plt.title('DOGE COIN')\n",
        "plt.xlabel('Days')\n",
        "plt.ylabel('Stock Price')\n",
        "plt.plot(predicted_prices, color=\"red\")\n",
        "plt.legend(['Predict','Trend Prediction'])\n",
        "plt.show()\n",
        "#Đồ thị không có đường xu hướng\n",
        "plt.title('DOGE COIN')\n",
        "plt.xlabel('Days')\n",
        "plt.ylabel('Stock Price')\n",
        "plt.plot(predicted_prices, color=\"red\")\n",
        "plt.legend(['Predict'])\n",
        "plt.show()\n"
      ]
    },
    {
      "cell_type": "code",
      "execution_count": 17,
      "metadata": {
        "id": "AQC3Ti7xnq1K"
      },
      "outputs": [],
      "source": [
        "#Test\n",
        "df1 = pd.read_csv('/content/DOGE_TEST.csv').values\n",
        "x = np.zeros((len(df1),1))\n",
        "y = np.zeros((len(df1),1))\n",
        "for i in range(0,len(df1)):\n",
        "  x[i] = i;\n",
        "  y[i] = predicted_prices[i,0]\n",
        "x = x.reshape(-1,1)\n",
        "y = y.reshape(-1,1)"
      ]
    },
    {
      "cell_type": "markdown",
      "metadata": {
        "id": "kpB4FlAQoTqQ"
      },
      "source": [
        "Predict trend direction from all data gaph"
      ]
    },
    {
      "cell_type": "code",
      "execution_count": 18,
      "metadata": {
        "colab": {
          "base_uri": "https://localhost:8080/",
          "height": 295
        },
        "id": "d4eZsrAa70Ia",
        "outputId": "ff8699d8-5029-4c8d-fa14-16bd8cc221a8"
      },
      "outputs": [
        {
          "output_type": "display_data",
          "data": {
            "text/plain": [
              "<Figure size 432x288 with 1 Axes>"
            ],
            "image/png": "[encoded data removed]"
          },
          "metadata": {
            "needs_background": "light"
          }
        }
      ],
      "source": [
        "lrg = LinearRegression()\n",
        "lrg.fit(x,y)\n",
        "y_pred = lrg.predict(x)\n",
        "y_pred.shape\n",
        "wo = lrg.intercept_\n",
        "w1 = lrg.coef_\n",
        "plt.plot(x,y_pred)\n",
        "plt.title('DOGE COIN')\n",
        "plt.xlabel('Days')\n",
        "plt.ylabel('Stock Price')\n",
        "plt.plot(predicted_prices, color=\"red\")\n",
        "plt.legend(['Trend','Actual'])\n",
        "plt.show()"
      ]
    },
    {
      "cell_type": "code",
      "execution_count": 19,
      "metadata": {
        "colab": {
          "base_uri": "https://localhost:8080/"
        },
        "id": "zQ61L1bNhyCj",
        "outputId": "9f199746-7e7a-437c-82a6-e7c07788b2ad"
      },
      "outputs": [
        {
          "output_type": "stream",
          "name": "stdout",
          "text": [
            "(365, 1)\n"
          ]
        }
      ],
      "source": [
        "predicted_prices.shape\n",
        "trend_prices = np.array(range(0,len(predicted_prices)-1),dtype=int)\n",
        "for i in range(0,len(predicted_prices)-1):\n",
        "  if predicted_prices[i] < predicted_prices[i+1]:\n",
        "    trend_prices[i] = 1 #Xu Hướng Tăng\n",
        "  else:\n",
        "    trend_prices[i] = 0 #Xu Hướng Giảm\n",
        "trend_prices = trend_prices.reshape(-1,1)\n",
        "print(trend_prices.shape)\n",
        "# print(trend_prices[1])"
      ]
    },
    {
      "cell_type": "code",
      "execution_count": 20,
      "metadata": {
        "id": "T6s5jyUMXess"
      },
      "outputs": [],
      "source": [
        "df2 = pd.read_csv('/content/DOGE_TEST.csv')\n",
        "Close_prices = df2.filter(['Close'])\n",
        "Close_prices = Close_prices['Close']\n",
        "Open_prices = df2.filter(['Open'])\n",
        "Open_prices = Open_prices['Open']"
      ]
    },
    {
      "cell_type": "markdown",
      "metadata": {
        "id": "PEdAauaMzpmz"
      },
      "source": [
        "##-----------------------------------------------------------------------------"
      ]
    },
    {
      "cell_type": "markdown",
      "metadata": {
        "id": "fwJAkIx-rMUz"
      },
      "source": [
        "###Create Input T/P for Predict"
      ]
    },
    {
      "cell_type": "code",
      "execution_count": 21,
      "metadata": {
        "colab": {
          "base_uri": "https://localhost:8080/"
        },
        "id": "pjv1XIoPvy5D",
        "outputId": "3a26bae9-1b91-4a07-d8f9-6a76fd218417"
      },
      "outputs": [
        {
          "output_type": "stream",
          "name": "stdout",
          "text": [
            "0.11699600000000004\n"
          ]
        }
      ],
      "source": [
        "import random\n",
        "state_size = np.zeros((len(df1),3))\n",
        "state_size = np.array([state_size])\n",
        "action_size = 3\n",
        "x_train = []\n",
        "y_train = []\n",
        "Take_Profit = 0\n",
        "a = np.array(range(0,len(df1)-1))\n",
        "for x in range(0, len(df1)-1):\n",
        "  Take_Profit += Close_prices[x] - Open_prices[x]\n",
        "  x_train.append(Take_Profit)\n",
        "print(Take_Profit)\n",
        "x_train = np.array(x_train)\n",
        "x_train = np.reshape(x_train, (x_train.shape[0],1))"
      ]
    },
    {
      "cell_type": "code",
      "execution_count": 23,
      "metadata": {
        "colab": {
          "base_uri": "https://localhost:8080/"
        },
        "id": "FAVCGH3HghT-",
        "outputId": "a7841b8e-c299-4fec-8367-abaf519f345f"
      },
      "outputs": [
        {
          "output_type": "stream",
          "name": "stdout",
          "text": [
            "(366,)\n",
            "()\n",
            "366\n"
          ]
        }
      ],
      "source": [
        "class Envr():\n",
        "  def __init__(self):\n",
        "    self.episode = 10\n",
        "    self.size_action = 3 # 1 2 3\n",
        "    self.size_state = len(predicted_prices[:,0])\n",
        "    self.size_data = 355\n",
        "    self.lr = 0.001 #Learning rate\n",
        "    self.gamma = 0.95 #Discount\n",
        "    \n",
        "    self.epsilon = 0.999\n",
        "    self.epsilon_min = 0.01\n",
        "    self.epsilon_decay = 0.999\n",
        "\n",
        "    self.Open_prices = Open_prices[0]\n",
        "    self.Close_prices = predicted_prices[:,0] #Close prices is predicted\n",
        "    self.Close_prices_real = Close_prices\n",
        "    self.q_t = np.zeros((self.size_state, self.size_action+1))\n",
        "    self.q_table = np.random.uniform(low=-2, high=0, size=(self.size_state, self.size_action+1))\n",
        "\n",
        "    # self.trend_prices = trend_prices\n",
        "    self.trend_data = trend_prices\n",
        "    self.Bought_prices = 0\n",
        "    self.Sold_prices = []\n",
        "    self.Profit = 0\n",
        "    self.Stock = 0\n",
        "    self.CRV = 100\n",
        "    self.Ns = self.CRV/self.Open_prices\n",
        "    self.predict_data = predicted_prices\n",
        "\n",
        "    self.model_state = model_state = Sequential()\n",
        "  def model(self):\n",
        "    q_a = np.random.randint(low=0, high=len(df1)-1, size=(len(df1), 3))\n",
        "    for j in range(0,self.size_action):\n",
        "      for i in range(0,len(q_a)-1):\n",
        "        q_a[i,j] = i\n",
        "    #----------------------------------------------------------------------------------\n",
        "    #LSTM\n",
        "    model_state = Sequential() \n",
        "    model_state.add(LSTM(units = 50, return_sequences = True, input_shape=x_train.shape))\n",
        "    model_state.add(Dropout(0.2))\n",
        "    model_state.add(LSTM(units = 240, return_sequences = True))\n",
        "    model_state.add(Dropout(0.2))\n",
        "    model_state.add(LSTM(units = 480, return_sequences = True))\n",
        "    model_state.add(Dropout(0.2))\n",
        "    model_state.add(LSTM(units = 50))\n",
        "    model_state.add(Dropout(0.2))\n",
        "    # Output layer\n",
        "    model_state.add(Dense(action_size))\n",
        "    model_state.compile(optimizer = 'adam', loss = 'mean_squared_error')\n",
        "    #----------------------------------------------------------------------------------\n",
        "  def action(self,state):\n",
        "    if random.random() < self.epsilon:\n",
        "      return random.randint(0,1)\n",
        "    else:\n",
        "      state = state/self.Ns\n",
        "      options = self.model_state.predict(state)\n",
        "      return np.argmax(options)\n",
        "  def Get_State(self,t):\n",
        "    return t+1\n",
        "  def Initial_State(self):\n",
        "    return 1\n",
        "  def End_State(self,state):\n",
        "    return self.size_state\n",
        "  def Get_Ns(self):\n",
        "    return self.Ns\n",
        "  def Get_TP(self):\n",
        "    return (0.5*(np.abs(self.Open_prices - self.Close_prices))*self.Ns)\n",
        "  def check(self):\n",
        "    print(self.Close_prices.shape)\n",
        "    print(self.Open_prices.shape)\n",
        "    print(self.size_state)\n",
        "#Check parameter\n",
        "Agent = Envr()\n",
        "Agent.check()\n",
        "a = np.array(range(0,100))\n",
        "a = a.reshape(-1,1)\n",
        "b = Agent.action(a)\n",
        "# print(Agent.action(1))\n",
        "# print(Agent.Get_State(2))\n",
        "agent = Envr()\n",
        "Ns = int(agent.Get_Ns()) # CRV = 100 dolars"
      ]
    },
    {
      "cell_type": "markdown",
      "metadata": {
        "id": "KLnFp5ORDIxe"
      },
      "source": [
        "### DEFINE GRAPH FUNCTION"
      ]
    },
    {
      "cell_type": "code",
      "execution_count": 24,
      "metadata": {
        "id": "IHabamqJDKEE"
      },
      "outputs": [],
      "source": [
        "def Graph():\n",
        "  k = 50\n",
        "  action_0 = []\n",
        "  action_1 = []\n",
        "  trend_dec = []\n",
        "  trend_inc = []\n",
        "  x_trend_0 = []\n",
        "  x_trend_1 = []\n",
        "  x_action_0 = []\n",
        "  x_action_1 = []\n",
        "  plt.plot(max_profit_list,'black',label='Profit')\n",
        "  plt.title('Profit/Loss')\n",
        "  plt.xlabel('Days')\n",
        "  plt.ylabel('Profit')\n",
        "  for i in range(0,int(len(max_action_list)/k)):\n",
        "    if max_action_list[i*k] == 0:\n",
        "      x_action_0.append(i*k)\n",
        "      action_0.append(max_profit_list[i*k])\n",
        "      if agent.trend_data[i*k] == 0:\n",
        "        x_trend_0.append(i*k)\n",
        "        trend_dec.append(max_profit_list[i*k])\n",
        "      elif agent.trend_data[i*k]== 1:\n",
        "        x_trend_1.append(i*k)\n",
        "        trend_inc.append(max_profit_list[i*k])\n",
        "    elif max_action_list[i*k] == 1:\n",
        "      x_action_1.append(i*k)\n",
        "      action_1.append(max_profit_list[i*k])\n",
        "      if agent.trend_data[i*k] == 0:\n",
        "        x_trend_0.append(i*k)\n",
        "        trend_dec.append(max_profit_list[i*k])\n",
        "      elif agent.trend_data[i*k]== 1:\n",
        "        x_trend_1.append(i*k)\n",
        "        trend_inc.append(max_profit_list[i*k])\n",
        "  plt.plot(x_trend_1,trend_inc,'g|',label = 'Increase')\n",
        "  plt.plot(x_trend_0,trend_dec,'r|',label = 'Decrease')\n",
        "  plt.plot(x_action_0,action_0,'g<',label = 'Buy')\n",
        "  plt.plot(x_action_1,action_1,'r>',label = 'Sell')\n",
        "  plt.legend(loc='best')\n",
        "  plt.show()"
      ]
    },
    {
      "cell_type": "markdown",
      "metadata": {
        "id": "_bw5ZhK_BfM-"
      },
      "source": [
        "###IDEAL MODEL FROM REAL DATA"
      ]
    },
    {
      "cell_type": "code",
      "execution_count": 25,
      "metadata": {
        "colab": {
          "base_uri": "https://localhost:8080/"
        },
        "id": "I3Is-f8LiemO",
        "outputId": "c30c0ceb-c4a4-42fb-853d-faccbb4bdcd2"
      },
      "outputs": [
        {
          "output_type": "stream",
          "name": "stdout",
          "text": [
            "[1 0 1 1 1 1 0 1 1 1 1 0 1 1 0 0 0 0 1 0 1 1 1 0 1 1 0 1 1 1 0 1 0 0 0 1 0\n",
            " 1 1 0 1 0 0 0 1 0 0 0 1 0 1 0 0 0 0 1 1 1 0 0 0 0 0 0 1 0 0 0 1 1 0 0 0 0\n",
            " 0 0 0 1 1 1 0 1 1 0 1 0 0 1 1 1 0 1 0 0 1 0 1 0 0 0 0 0 1 0 0 0 1 1 1 1 1\n",
            " 1 1 0 0 1 0 0 0 0 1 0 1 1 0 1 1 1 0 1 1 1 0 0 1 1 1 0 0 1 0 1 0 1 0 0 0 1\n",
            " 1 1 1 1 1 0 0 1 0 0 1 1 0 1 1 0 0 1 0 0 0 1 0 0 0 0 0 0 1 1 1 0 1 1 1 1 0\n",
            " 1 1 0 1 0 1 0 1 1 1 1 0 1 0 1 1 1 0 0 0 1 0 0 1 0 1 0 0 0 1 1 1 0 0 1 0 1\n",
            " 1 0 0 1 0 1 0 0 0 1 0 0 0 1 1 1 0 0 1 0 0 0 1 0 1 0 0 1 1 0 1 1 0 0 1 0 0\n",
            " 1 1 1 1 1 0 0 0 0 1 0 1 1 0 0 0 1 0 0 0 0 1 1 1 1 1 0 0 0 0 0 0 0 1 0 1 1\n",
            " 0 1 1 0 1 1 0 1 1 0 1 1 0 1 0 0 0 1 0 1 0 0 1 1 0 0 1 0 0 1 1 0 1 1 0 0 0\n",
            " 1 0 0 0 1 0 0 0 0 1 0 1 0 1 1 0 1 1 1 1 0 1 1 0 1 0 0 1 0 1 1 1]\n"
          ]
        }
      ],
      "source": [
        "trend_prices = []\n",
        "for i in range(0,len(predicted_prices)-1):\n",
        "  if Close_prices[i] < Close_prices[i+1]:\n",
        "    trend_prices.append(1)#Xu Hướng Tăng\n",
        "  else:\n",
        "    trend_prices.append(0) #Xu Hướng Giảm\n",
        "trend_prices = np.array(trend_prices)\n",
        "print(trend_prices)"
      ]
    },
    {
      "cell_type": "code",
      "execution_count": 26,
      "metadata": {
        "id": "ETHN7XY_DcA6"
      },
      "outputs": [],
      "source": [
        "def Get_action(t):\n",
        "  # if agent.trend_data[t] == 1: #Xu hướng tăng\n",
        "  if trend_prices[t] == 1: #Xu hướng tăng\n",
        "    return 0 #Buy\n",
        "  # if agent.trend_data[t] == 0: #Xu hướng giảm\n",
        "  if trend_prices[t] == 0: #Xu hướng giảm\n",
        "    return 1 #Sell"
      ]
    },
    {
      "cell_type": "code",
      "execution_count": 27,
      "metadata": {
        "colab": {
          "base_uri": "https://localhost:8080/"
        },
        "id": "RIb0ZW5FN_x_",
        "outputId": "3e661f85-9978-4152-e1f8-9dd13df7da05"
      },
      "outputs": [
        {
          "output_type": "stream",
          "name": "stdout",
          "text": [
            "Total of Profit: [4893.1685]\n"
          ]
        }
      ],
      "source": [
        "action_list = []\n",
        "action = 0\n",
        "TP = 0\n",
        "Bought_prices = 0\n",
        "Sold_prices = []\n",
        "size_state = len(predicted_prices[:,0])\n",
        "Close_prices_real = Close_prices\n",
        "Close_predict = predicted_prices\n",
        "for i in range(0,size_state-1):\n",
        "  action = Get_action(i)\n",
        "  if action == 0: #Buy\n",
        "    if len(Sold_prices) == 0: #Buy\n",
        "      Sold_prices.append(Close_predict[i]) # Open prices\n",
        "      # print(\"[{}]--------------------------\".format(i))\n",
        "      # print(\".Buy : {}\".format(Open_prices[i]))\n",
        "      # print(\" -. Trend Line : {}\".format(\"Increase\" if agent.trend_data[i] == 1 else \"Decrease\"))\n",
        "  if action == 1: #Sell\n",
        "    if len(Sold_prices) == 1: #Sell\n",
        "      Bought_prices = Sold_prices.pop(0)\n",
        "      if Close_prices_real[i] > Bought_prices:\n",
        "        TP += np.abs((Close_prices_real[i] - Bought_prices)*Ns-(0.19/100)*2*(Close_prices_real[i] - Bought_prices)*Ns)\n",
        "      # print(\"[{}]--------------------------\".format(i))\n",
        "      # print(\".Sell : {}\".format(Bought_prices))\n",
        "      # print(\" -. Take/Profit of Index {}: {}\" .format(i,np.abs((agent.Close_prices_real[i] - Bought_prices)*Ns)))\n",
        "      # print(\" -. Trend Line : {}\".format(\"Increase\" if agent.trend_data[i] == 1 else \"Decrease\"))\n",
        "  action_list.append(action)\n",
        "action_list = np.array(action_list)\n",
        "# print(\"Action list: \",action_list)\n",
        "print(\"Total of Profit:\", TP)"
      ]
    },
    {
      "cell_type": "markdown",
      "source": [
        "###EVALUTE FUNCTION"
      ],
      "metadata": {
        "id": "7LdyB3_3oNpt"
      }
    },
    {
      "cell_type": "code",
      "source": [
        "def Drawdown(Pmax, Pt, Lenght_P):\n",
        "  Draw_down = []\n",
        "  MDD = 0\n",
        "  for i in range(0,Lenght_P):\n",
        "    Draw_down.append(((Pmax-np.abs(Pt[i]))/Pmax)*100)\n",
        "  Draw_down = np.array(Draw_down)\n",
        "  MDD = max(Draw_down)\n",
        "  return MDD\n",
        "def Accuracy(max_ideal_profit, max_model_profit):\n",
        "  Acc = (max_model_profit/max_ideal_profit)*100\n",
        "  return np.round(Acc,2)\n",
        "def Average_day(Value_now, Value_previous):\n",
        "  Daily_return = ((Value_now - Value_previous)/Value_previous)*100\n",
        "  return np.round(Daily_return,2)\n",
        "def Accumulated_return(Current_invest, Initial_invest):\n",
        "  return ((Current_invest-Initial_invest)/Initial_invest)*100"
      ],
      "metadata": {
        "id": "ITTsmTXuoTCi"
      },
      "execution_count": 28,
      "outputs": []
    },
    {
      "cell_type": "markdown",
      "metadata": {
        "id": "lsaVdIeBnB8U"
      },
      "source": [
        "REF of MDP: https://python-data-science.readthedocs.io/en/latest/reinforcement.html"
      ]
    },
    {
      "cell_type": "code",
      "execution_count": null,
      "metadata": {
        "colab": {
          "base_uri": "https://localhost:8080/"
        },
        "id": "8nQ4tflGKj_Y",
        "outputId": "123c35fd-1697-44ef-98a9-25b440c66474"
      },
      "outputs": [
        {
          "output_type": "stream",
          "name": "stdout",
          "text": [
            "0      0.057411\n",
            "1      0.059689\n",
            "2      0.064454\n",
            "3      0.059036\n",
            "4      0.061463\n",
            "         ...   \n",
            "361    0.137922\n",
            "362    0.141310\n",
            "363    0.138903\n",
            "364    0.146413\n",
            "365    0.148042\n",
            "Name: Open, Length: 366, dtype: float64\n"
          ]
        }
      ],
      "source": [
        "print(Open_prices)"
      ]
    },
    {
      "cell_type": "code",
      "execution_count": 31,
      "metadata": {
        "colab": {
          "base_uri": "https://localhost:8080/"
        },
        "id": "P7Ed6kIKWiix",
        "outputId": "8268d7be-6a6e-4fbb-b68b-06e7b3cf8b20"
      },
      "outputs": [
        {
          "output_type": "stream",
          "name": "stdout",
          "text": [
            "Initial Investment : 1741 Stocks and 100$\n"
          ]
        }
      ],
      "source": [
        "agent = Envr()\n",
        "Ns = int(agent.Get_Ns()) # CRV = 100 dolars\n",
        "print(\"Initial Investment : {} Stocks and {}$\".format(Ns,agent.CRV))"
      ]
    },
    {
      "cell_type": "markdown",
      "metadata": {
        "id": "7b6xu648-Gi1"
      },
      "source": [
        "###0. Predict Stock Prices Base on Trend Line ( Extend )"
      ]
    },
    {
      "cell_type": "code",
      "execution_count": 36,
      "metadata": {
        "colab": {
          "base_uri": "https://localhost:8080/"
        },
        "id": "mK0tUYgj-IG5",
        "outputId": "b9ae0d1c-0214-45b7-b3b4-05d8edfa82c6"
      },
      "outputs": [
        {
          "output_type": "stream",
          "name": "stdout",
          "text": [
            ".Episode [0]-----------------------\n",
            " .Total Profit: 2666.932755711235 ----- .AVG Daily Return: 0.0% ----- .Accumulated Return: 153.18%\n",
            " .Epsilon : 0.99\n",
            ".Episode [1]-----------------------\n",
            " .Total Profit: 2785.005456214802 ----- .AVG Daily Return: 4.43% ----- .Accumulated Return: 159.97%\n",
            " .Epsilon : 0.98901\n",
            ".Episode [2]-----------------------\n",
            " .Total Profit: 2864.2259628881934 ----- .AVG Daily Return: 2.84% ----- .Accumulated Return: 164.52%\n",
            " .Epsilon : 0.98802099\n",
            ".Episode [3]-----------------------\n",
            " .Total Profit: 2694.4918248070003 ----- .AVG Daily Return: -5.93% ----- .Accumulated Return: 154.77%\n",
            " .Epsilon : 0.98703296901\n",
            ".Episode [4]-----------------------\n",
            " .Total Profit: 2787.288522385812 ----- .AVG Daily Return: 3.44% ----- .Accumulated Return: 160.1%\n",
            " .Epsilon : 0.98604593604099\n",
            ".Episode [5]-----------------------\n",
            " .Total Profit: 2368.211954830296 ----- .AVG Daily Return: -15.04% ----- .Accumulated Return: 136.03%\n",
            " .Epsilon : 0.985059890104949\n",
            ".Episode [6]-----------------------\n",
            " .Total Profit: 3057.064262452436 ----- .AVG Daily Return: 29.09% ----- .Accumulated Return: 175.59%\n",
            " .Epsilon : 0.984074830214844\n",
            ".Episode [7]-----------------------\n",
            " .Total Profit: 3069.951412791905 ----- .AVG Daily Return: 0.42% ----- .Accumulated Return: 176.33%\n",
            " .Epsilon : 0.9830907553846291\n",
            ".Episode [8]-----------------------\n",
            " .Total Profit: 3036.882361802732 ----- .AVG Daily Return: -1.08% ----- .Accumulated Return: 174.43%\n",
            " .Epsilon : 0.9821076646292445\n",
            ".Episode [9]-----------------------\n",
            " .Total Profit: 2665.1493130275117 ----- .AVG Daily Return: -12.24% ----- .Accumulated Return: 153.08%\n",
            " .Epsilon : 0.9811255569646152\n",
            ".Episode [10]-----------------------\n",
            " .Total Profit: 2936.1707583871316 ----- .AVG Daily Return: 10.17% ----- .Accumulated Return: 168.65%\n",
            " .Epsilon : 0.9801444314076506\n",
            ".Episode [11]-----------------------\n",
            " .Total Profit: 2762.036299422942 ----- .AVG Daily Return: -5.93% ----- .Accumulated Return: 158.65%\n",
            " .Epsilon : 0.9791642869762429\n",
            ".Episode [12]-----------------------\n",
            " .Total Profit: 2954.088802229511 ----- .AVG Daily Return: 6.95% ----- .Accumulated Return: 169.68%\n",
            " .Epsilon : 0.9781851226892667\n",
            ".Episode [13]-----------------------\n",
            " .Total Profit: 2739.653949237103 ----- .AVG Daily Return: -7.26% ----- .Accumulated Return: 157.36%\n",
            " .Epsilon : 0.9772069375665775\n",
            ".Episode [14]-----------------------\n",
            " .Total Profit: 3153.2298083414194 ----- .AVG Daily Return: 15.1% ----- .Accumulated Return: 181.12%\n",
            " .Epsilon : 0.976229730629011\n",
            ".Episode [15]-----------------------\n",
            " .Total Profit: 3221.224674501648 ----- .AVG Daily Return: 2.16% ----- .Accumulated Return: 185.02%\n",
            " .Epsilon : 0.9752535008983819\n",
            ".Episode [16]-----------------------\n",
            " .Total Profit: 2850.7817625497833 ----- .AVG Daily Return: -11.5% ----- .Accumulated Return: 163.74%\n",
            " .Epsilon : 0.9742782473974836\n",
            ".Episode [17]-----------------------\n",
            " .Total Profit: 2746.708879209407 ----- .AVG Daily Return: -3.65% ----- .Accumulated Return: 157.77%\n",
            " .Epsilon : 0.9733039691500861\n",
            ".Episode [18]-----------------------\n",
            " .Total Profit: 2826.1338773413972 ----- .AVG Daily Return: 2.89% ----- .Accumulated Return: 162.33%\n",
            " .Epsilon : 0.972330665180936\n",
            ".Episode [19]-----------------------\n",
            " .Total Profit: 3272.260148548551 ----- .AVG Daily Return: 15.79% ----- .Accumulated Return: 187.95%\n",
            " .Epsilon : 0.971358334515755\n",
            ".Episode [20]-----------------------\n",
            " .Total Profit: 2695.878519614839 ----- .AVG Daily Return: -17.61% ----- .Accumulated Return: 154.85%\n",
            " .Epsilon : 0.9703869761812393\n",
            ".Episode [21]-----------------------\n",
            " .Total Profit: 3166.502495155078 ----- .AVG Daily Return: 17.46% ----- .Accumulated Return: 181.88%\n",
            " .Epsilon : 0.969416589205058\n",
            ".Episode [22]-----------------------\n",
            " .Total Profit: 2798.9413822671654 ----- .AVG Daily Return: -11.61% ----- .Accumulated Return: 160.77%\n",
            " .Epsilon : 0.968447172615853\n",
            ".Episode [23]-----------------------\n",
            " .Total Profit: 2718.85865308099 ----- .AVG Daily Return: -2.86% ----- .Accumulated Return: 156.17%\n",
            " .Epsilon : 0.9674787254432371\n",
            ".Episode [24]-----------------------\n",
            " .Total Profit: 3473.379053231009 ----- .AVG Daily Return: 27.75% ----- .Accumulated Return: 199.5%\n",
            " .Epsilon : 0.9665112467177939\n",
            ".Episode [25]-----------------------\n",
            " .Total Profit: 2706.428251594194 ----- .AVG Daily Return: -22.08% ----- .Accumulated Return: 155.45%\n",
            " .Epsilon : 0.9655447354710761\n",
            ".Episode [26]-----------------------\n",
            " .Total Profit: 2377.775172203026 ----- .AVG Daily Return: -12.14% ----- .Accumulated Return: 136.58%\n",
            " .Epsilon : 0.964579190735605\n",
            ".Episode [27]-----------------------\n",
            " .Total Profit: 2826.7603369124026 ----- .AVG Daily Return: 18.88% ----- .Accumulated Return: 162.36%\n",
            " .Epsilon : 0.9636146115448695\n",
            ".Episode [28]-----------------------\n",
            " .Total Profit: 2937.0199610167356 ----- .AVG Daily Return: 3.9% ----- .Accumulated Return: 168.7%\n",
            " .Epsilon : 0.9626509969333247\n",
            ".Episode [29]-----------------------\n",
            " .Total Profit: 2566.1649327997857 ----- .AVG Daily Return: -12.63% ----- .Accumulated Return: 147.4%\n",
            " .Epsilon : 0.9616883459363913\n",
            ".Episode [30]-----------------------\n",
            " .Total Profit: 3425.1516646826162 ----- .AVG Daily Return: 33.47% ----- .Accumulated Return: 196.73%\n",
            " .Epsilon : 0.960726657590455\n",
            ".Episode [31]-----------------------\n",
            " .Total Profit: 2927.7094119619196 ----- .AVG Daily Return: -14.52% ----- .Accumulated Return: 168.16%\n",
            " .Epsilon : 0.9597659309328644\n",
            ".Episode [32]-----------------------\n",
            " .Total Profit: 2321.064976383337 ----- .AVG Daily Return: -20.72% ----- .Accumulated Return: 133.32%\n",
            " .Epsilon : 0.9588061650019316\n",
            ".Episode [33]-----------------------\n",
            " .Total Profit: 3233.581423897766 ----- .AVG Daily Return: 39.31% ----- .Accumulated Return: 185.73%\n",
            " .Epsilon : 0.9578473588369297\n",
            ".Episode [34]-----------------------\n",
            " .Total Profit: 2926.742493719714 ----- .AVG Daily Return: -9.49% ----- .Accumulated Return: 168.11%\n",
            " .Epsilon : 0.9568895114780928\n",
            ".Episode [35]-----------------------\n",
            " .Total Profit: 2341.346435769269 ----- .AVG Daily Return: -20.0% ----- .Accumulated Return: 134.48%\n",
            " .Epsilon : 0.9559326219666147\n",
            ".Episode [36]-----------------------\n",
            " .Total Profit: 3407.969885739797 ----- .AVG Daily Return: 45.56% ----- .Accumulated Return: 195.75%\n",
            " .Epsilon : 0.9549766893446481\n",
            ".Episode [37]-----------------------\n",
            " .Total Profit: 2672.9941001198513 ----- .AVG Daily Return: -21.57% ----- .Accumulated Return: 153.53%\n",
            " .Epsilon : 0.9540217126553034\n",
            ".Episode [38]-----------------------\n",
            " .Total Profit: 3180.276901208252 ----- .AVG Daily Return: 18.98% ----- .Accumulated Return: 182.67%\n",
            " .Epsilon : 0.9530676909426481\n",
            ".Episode [39]-----------------------\n",
            " .Total Profit: 2821.5376501285587 ----- .AVG Daily Return: -11.28% ----- .Accumulated Return: 162.06%\n",
            " .Epsilon : 0.9521146232517055\n",
            ".Episode [40]-----------------------\n",
            " .Total Profit: 2720.7650590546396 ----- .AVG Daily Return: -3.57% ----- .Accumulated Return: 156.28%\n",
            " .Epsilon : 0.9511625086284538\n",
            ".Episode [41]-----------------------\n",
            " .Total Profit: 3120.104498448892 ----- .AVG Daily Return: 14.68% ----- .Accumulated Return: 179.21%\n",
            " .Epsilon : 0.9502113461198253\n",
            ".Episode [42]-----------------------\n",
            " .Total Profit: 3009.6626011752837 ----- .AVG Daily Return: -3.54% ----- .Accumulated Return: 172.87%\n",
            " .Epsilon : 0.9492611347737054\n",
            ".Episode [43]-----------------------\n",
            " .Total Profit: 2565.59826239178 ----- .AVG Daily Return: -14.75% ----- .Accumulated Return: 147.36%\n",
            " .Epsilon : 0.9483118736389318\n",
            ".Episode [44]-----------------------\n",
            " .Total Profit: 2347.1333327643893 ----- .AVG Daily Return: -8.52% ----- .Accumulated Return: 134.82%\n",
            " .Epsilon : 0.9473635617652928\n",
            ".Episode [45]-----------------------\n",
            " .Total Profit: 2536.621741092838 ----- .AVG Daily Return: 8.07% ----- .Accumulated Return: 145.7%\n",
            " .Epsilon : 0.9464161982035275\n",
            ".Episode [46]-----------------------\n",
            " .Total Profit: 2800.3112798111124 ----- .AVG Daily Return: 10.4% ----- .Accumulated Return: 160.84%\n",
            " .Epsilon : 0.9454697820053239\n",
            ".Episode [47]-----------------------\n",
            " .Total Profit: 2946.8782364426406 ----- .AVG Daily Return: 5.23% ----- .Accumulated Return: 169.26%\n",
            " .Epsilon : 0.9445243122233187\n",
            ".Episode [48]-----------------------\n",
            " .Total Profit: 2255.853158777027 ----- .AVG Daily Return: -23.45% ----- .Accumulated Return: 129.57%\n",
            " .Epsilon : 0.9435797879110953\n",
            ".Episode [49]-----------------------\n",
            " .Total Profit: 2976.642620341576 ----- .AVG Daily Return: 31.95% ----- .Accumulated Return: 170.97%\n",
            " .Epsilon : 0.9426362081231843\n",
            ".Episode [50]-----------------------\n",
            " .Total Profit: 2540.4294922082995 ----- .AVG Daily Return: -14.65% ----- .Accumulated Return: 145.92%\n",
            " .Epsilon : 0.9416935719150611\n",
            ".Episode [51]-----------------------\n",
            " .Total Profit: 3415.3452939250037 ----- .AVG Daily Return: 34.44% ----- .Accumulated Return: 196.17%\n",
            " .Epsilon : 0.940751878343146\n",
            ".Episode [52]-----------------------\n",
            " .Total Profit: 2579.911263813344 ----- .AVG Daily Return: -24.46% ----- .Accumulated Return: 148.19%\n",
            " .Epsilon : 0.9398111264648028\n",
            ".Episode [53]-----------------------\n",
            " .Total Profit: 2526.2602228486126 ----- .AVG Daily Return: -2.08% ----- .Accumulated Return: 145.1%\n",
            " .Epsilon : 0.938871315338338\n",
            ".Episode [54]-----------------------\n",
            " .Total Profit: 3364.172454169345 ----- .AVG Daily Return: 33.17% ----- .Accumulated Return: 193.23%\n",
            " .Epsilon : 0.9379324440229997\n",
            ".Episode [55]-----------------------\n",
            " .Total Profit: 2890.882923282648 ----- .AVG Daily Return: -14.07% ----- .Accumulated Return: 166.05%\n",
            " .Epsilon : 0.9369945115789767\n",
            ".Episode [56]-----------------------\n",
            " .Total Profit: 2703.578241776856 ----- .AVG Daily Return: -6.48% ----- .Accumulated Return: 155.29%\n",
            " .Epsilon : 0.9360575170673977\n",
            ".Episode [57]-----------------------\n",
            " .Total Profit: 2676.403918210806 ----- .AVG Daily Return: -1.01% ----- .Accumulated Return: 153.73%\n",
            " .Epsilon : 0.9351214595503303\n",
            ".Episode [58]-----------------------\n",
            " .Total Profit: 2764.4432249411825 ----- .AVG Daily Return: 3.29% ----- .Accumulated Return: 158.78%\n",
            " .Epsilon : 0.93418633809078\n",
            ".Episode [59]-----------------------\n",
            " .Total Profit: 3220.8488879286447 ----- .AVG Daily Return: 16.51% ----- .Accumulated Return: 185.0%\n",
            " .Epsilon : 0.9332521517526893\n",
            ".Episode [60]-----------------------\n",
            " .Total Profit: 2927.602212718143 ----- .AVG Daily Return: -9.1% ----- .Accumulated Return: 168.16%\n",
            " .Epsilon : 0.9323188996009366\n",
            ".Episode [61]-----------------------\n",
            " .Total Profit: 2886.115545450422 ----- .AVG Daily Return: -1.42% ----- .Accumulated Return: 165.77%\n",
            " .Epsilon : 0.9313865807013356\n",
            ".Episode [62]-----------------------\n",
            " .Total Profit: 2774.489507846443 ----- .AVG Daily Return: -3.87% ----- .Accumulated Return: 159.36%\n",
            " .Epsilon : 0.9304551941206343\n",
            ".Episode [63]-----------------------\n",
            " .Total Profit: 2147.6202052381636 ----- .AVG Daily Return: -22.59% ----- .Accumulated Return: 123.36%\n",
            " .Epsilon : 0.9295247389265137\n",
            ".Episode [64]-----------------------\n",
            " .Total Profit: 2901.9387541647957 ----- .AVG Daily Return: 35.12% ----- .Accumulated Return: 166.68%\n",
            " .Epsilon : 0.9285952141875872\n",
            ".Episode [65]-----------------------\n",
            " .Total Profit: 2848.180011380877 ----- .AVG Daily Return: -1.85% ----- .Accumulated Return: 163.59%\n",
            " .Epsilon : 0.9276666189733996\n",
            ".Episode [66]-----------------------\n",
            " .Total Profit: 2639.100897547407 ----- .AVG Daily Return: -7.34% ----- .Accumulated Return: 151.59%\n",
            " .Epsilon : 0.9267389523544263\n",
            ".Episode [67]-----------------------\n",
            " .Total Profit: 2963.67682757253 ----- .AVG Daily Return: 12.3% ----- .Accumulated Return: 170.23%\n",
            " .Epsilon : 0.9258122134020719\n",
            ".Episode [68]-----------------------\n",
            " .Total Profit: 3023.345691701583 ----- .AVG Daily Return: 2.01% ----- .Accumulated Return: 173.66%\n",
            " .Epsilon : 0.9248864011886698\n",
            ".Episode [69]-----------------------\n",
            " .Total Profit: 3152.7579898582358 ----- .AVG Daily Return: 4.28% ----- .Accumulated Return: 181.09%\n",
            " .Epsilon : 0.9239615147874811\n",
            ".Episode [70]-----------------------\n",
            " .Total Profit: 2571.868971760105 ----- .AVG Daily Return: -18.42% ----- .Accumulated Return: 147.72%\n",
            " .Epsilon : 0.9230375532726937\n",
            ".Episode [71]-----------------------\n",
            " .Total Profit: 2920.7369140354144 ----- .AVG Daily Return: 13.56% ----- .Accumulated Return: 167.76%\n",
            " .Epsilon : 0.9221145157194209\n",
            ".Episode [72]-----------------------\n",
            " .Total Profit: 3499.7633988934217 ----- .AVG Daily Return: 19.82% ----- .Accumulated Return: 201.02%\n",
            " .Epsilon : 0.9211924012037015\n",
            ".Episode [73]-----------------------\n",
            " .Total Profit: 3268.8945163595467 ----- .AVG Daily Return: -6.6% ----- .Accumulated Return: 187.76%\n",
            " .Epsilon : 0.9202712088024978\n",
            ".Episode [74]-----------------------\n",
            " .Total Profit: 2716.591449726434 ----- .AVG Daily Return: -16.9% ----- .Accumulated Return: 156.04%\n",
            " .Epsilon : 0.9193509375936953\n",
            ".Episode [75]-----------------------\n",
            " .Total Profit: 2563.3781967115124 ----- .AVG Daily Return: -5.64% ----- .Accumulated Return: 147.24%\n",
            " .Epsilon : 0.9184315866561017\n",
            ".Episode [76]-----------------------\n",
            " .Total Profit: 2278.855991427931 ----- .AVG Daily Return: -11.1% ----- .Accumulated Return: 130.89%\n",
            " .Epsilon : 0.9175131550694456\n",
            ".Episode [77]-----------------------\n",
            " .Total Profit: 2857.582398849002 ----- .AVG Daily Return: 25.4% ----- .Accumulated Return: 164.13%\n",
            " .Epsilon : 0.9165956419143761\n",
            ".Episode [78]-----------------------\n",
            " .Total Profit: 2310.996662781814 ----- .AVG Daily Return: -19.13% ----- .Accumulated Return: 132.74%\n",
            " .Epsilon : 0.9156790462724618\n",
            ".Episode [79]-----------------------\n",
            " .Total Profit: 2654.212826798279 ----- .AVG Daily Return: 14.85% ----- .Accumulated Return: 152.45%\n",
            " .Epsilon : 0.9147633672261893\n",
            ".Episode [80]-----------------------\n",
            " .Total Profit: 3044.641976544121 ----- .AVG Daily Return: 14.71% ----- .Accumulated Return: 174.88%\n",
            " .Epsilon : 0.9138486038589632\n",
            ".Episode [81]-----------------------\n",
            " .Total Profit: 1904.1432450069135 ----- .AVG Daily Return: -37.46% ----- .Accumulated Return: 109.37%\n",
            " .Epsilon : 0.9129347552551041\n",
            ".Episode [82]-----------------------\n",
            " .Total Profit: 2348.9596931305423 ----- .AVG Daily Return: 23.36% ----- .Accumulated Return: 134.92%\n",
            " .Epsilon : 0.912021820499849\n",
            ".Episode [83]-----------------------\n",
            " .Total Profit: 3297.089478007946 ----- .AVG Daily Return: 40.36% ----- .Accumulated Return: 189.38%\n",
            " .Epsilon : 0.9111097986793492\n",
            ".Episode [84]-----------------------\n",
            " .Total Profit: 2992.2051034663737 ----- .AVG Daily Return: -9.25% ----- .Accumulated Return: 171.87%\n",
            " .Epsilon : 0.9101986888806698\n",
            ".Episode [85]-----------------------\n",
            " .Total Profit: 3007.9004288879582 ----- .AVG Daily Return: 0.52% ----- .Accumulated Return: 172.77%\n",
            " .Epsilon : 0.9092884901917891\n",
            ".Episode [86]-----------------------\n",
            " .Total Profit: 3006.640686731821 ----- .AVG Daily Return: -0.04% ----- .Accumulated Return: 172.7%\n",
            " .Epsilon : 0.9083792017015974\n",
            ".Episode [87]-----------------------\n",
            " .Total Profit: 2381.6286499224016 ----- .AVG Daily Return: -20.79% ----- .Accumulated Return: 136.8%\n",
            " .Epsilon : 0.9074708224998957\n",
            ".Episode [88]-----------------------\n",
            " .Total Profit: 2555.649341618968 ----- .AVG Daily Return: 7.31% ----- .Accumulated Return: 146.79%\n",
            " .Epsilon : 0.9065633516773959\n",
            ".Episode [89]-----------------------\n",
            " .Total Profit: 2518.405462408908 ----- .AVG Daily Return: -1.46% ----- .Accumulated Return: 144.65%\n",
            " .Epsilon : 0.9056567883257185\n",
            ".Episode [90]-----------------------\n",
            " .Total Profit: 2845.1504258632935 ----- .AVG Daily Return: 12.97% ----- .Accumulated Return: 163.42%\n",
            " .Epsilon : 0.9047511315373927\n",
            ".Episode [91]-----------------------\n",
            " .Total Profit: 2127.372034418738 ----- .AVG Daily Return: -25.23% ----- .Accumulated Return: 122.19%\n",
            " .Epsilon : 0.9038463804058553\n",
            ".Episode [92]-----------------------\n",
            " .Total Profit: 3401.301970670675 ----- .AVG Daily Return: 59.88% ----- .Accumulated Return: 195.36%\n",
            " .Epsilon : 0.9029425340254494\n",
            ".Episode [93]-----------------------\n",
            " .Total Profit: 3070.8314455130653 ----- .AVG Daily Return: -9.72% ----- .Accumulated Return: 176.38%\n",
            " .Epsilon : 0.902039591491424\n",
            ".Episode [94]-----------------------\n",
            " .Total Profit: 2779.8651474046533 ----- .AVG Daily Return: -9.48% ----- .Accumulated Return: 159.67%\n",
            " .Epsilon : 0.9011375518999326\n",
            ".Episode [95]-----------------------\n",
            " .Total Profit: 2970.739678774304 ----- .AVG Daily Return: 6.87% ----- .Accumulated Return: 170.63%\n",
            " .Epsilon : 0.9002364143480327\n",
            ".Episode [96]-----------------------\n",
            " .Total Profit: 2562.9323756915346 ----- .AVG Daily Return: -13.73% ----- .Accumulated Return: 147.21%\n",
            " .Epsilon : 0.8993361779336847\n",
            ".Episode [97]-----------------------\n",
            " .Total Profit: 2172.4674303058805 ----- .AVG Daily Return: -15.24% ----- .Accumulated Return: 124.78%\n",
            " .Epsilon : 0.898436841755751\n",
            ".Episode [98]-----------------------\n",
            " .Total Profit: 3300.8307067515448 ----- .AVG Daily Return: 51.94% ----- .Accumulated Return: 189.59%\n",
            " .Epsilon : 0.8975384049139953\n",
            ".Episode [99]-----------------------\n",
            " .Total Profit: 2809.0498771407256 ----- .AVG Daily Return: -14.9% ----- .Accumulated Return: 161.35%\n",
            " .Epsilon : 0.8966408665090813\n",
            "Max profit in each episode:  [2666.932755711235, 2785.005456214802, 2864.2259628881934, 2694.4918248070003, 2787.288522385812, 2368.211954830296, 3057.064262452436, 3069.951412791905, 3036.882361802732, 2665.1493130275117, 2936.1707583871316, 2762.036299422942, 2954.088802229511, 2739.653949237103, 3153.2298083414194, 3221.224674501648, 2850.7817625497833, 2746.708879209407, 2826.1338773413972, 3272.260148548551, 2695.878519614839, 3166.502495155078, 2798.9413822671654, 2718.85865308099, 3473.379053231009, 2706.428251594194, 2377.775172203026, 2826.7603369124026, 2937.0199610167356, 2566.1649327997857, 3425.1516646826162, 2927.7094119619196, 2321.064976383337, 3233.581423897766, 2926.742493719714, 2341.346435769269, 3407.969885739797, 2672.9941001198513, 3180.276901208252, 2821.5376501285587, 2720.7650590546396, 3120.104498448892, 3009.6626011752837, 2565.59826239178, 2347.1333327643893, 2536.621741092838, 2800.3112798111124, 2946.8782364426406, 2255.853158777027, 2976.642620341576, 2540.4294922082995, 3415.3452939250037, 2579.911263813344, 2526.2602228486126, 3364.172454169345, 2890.882923282648, 2703.578241776856, 2676.403918210806, 2764.4432249411825, 3220.8488879286447, 2927.602212718143, 2886.115545450422, 2774.489507846443, 2147.6202052381636, 2901.9387541647957, 2848.180011380877, 2639.100897547407, 2963.67682757253, 3023.345691701583, 3152.7579898582358, 2571.868971760105, 2920.7369140354144, 3499.7633988934217, 3268.8945163595467, 2716.591449726434, 2563.3781967115124, 2278.855991427931, 2857.582398849002, 2310.996662781814, 2654.212826798279, 3044.641976544121, 1904.1432450069135, 2348.9596931305423, 3297.089478007946, 2992.2051034663737, 3007.9004288879582, 3006.640686731821, 2381.6286499224016, 2555.649341618968, 2518.405462408908, 2845.1504258632935, 2127.372034418738, 3401.301970670675, 3070.8314455130653, 2779.8651474046533, 2970.739678774304, 2562.9323756915346, 2172.4674303058805, 3300.8307067515448, 2809.0498771407256]\n",
            ".Total of Profit in entire transition 3499.7633988934217\n",
            ".The Highest episode gain: 72\n",
            ".Highest Profit in each transition : 3477.111798373163\n",
            ".Max_action_list : [1, 0, 0, 1, 1, 1, 1, 0, 0, 1, 1, 1, 0, 1, 0, 1, 1, 0, 0, 0, 1, 0, 0, 1, 0, 1, 1, 0, 0, 1, 1, 0, 1, 0, 0, 1, 0, 0, 0, 0, 1, 1, 0, 1, 1, 1, 1, 0, 0, 1, 0, 0, 0, 0, 1, 1, 1, 0, 0, 1, 1, 1, 0, 1, 0, 0, 0, 0, 1, 0, 1, 1, 0, 0, 0, 1, 1, 1, 0, 1, 1, 1, 1, 0, 1, 0, 1, 0, 0, 1, 0, 0, 0, 1, 1, 1, 1, 1, 0, 1, 1, 0, 0, 0, 1, 0, 0, 1, 0, 1, 0, 1, 0, 1, 1, 0, 0, 1, 1, 0, 0, 0, 0, 0, 1, 0, 0, 1, 1, 0, 1, 1, 1, 1, 1, 1, 0, 0, 1, 0, 0, 1, 1, 0, 0, 0, 1, 1, 0, 1, 1, 0, 1, 0, 1, 1, 1, 0, 1, 0, 0, 1, 0, 1, 0, 0, 0, 1, 0, 1, 0, 0, 0, 1, 1, 1, 1, 1, 1, 0, 1, 0, 1, 1, 0, 0, 1, 0, 0, 0, 0, 1, 1, 1, 1, 1, 1, 1, 0, 0, 1, 1, 1, 0, 0, 0, 1, 0, 0, 1, 0, 0, 0, 0, 1, 1, 0, 1, 1, 0, 1, 0, 0, 0, 0, 1, 0, 0, 0, 1, 0, 2, 1, 1, 0, 0, 1, 0, 0, 1, 1, 1, 0, 1, 0, 1, 0, 1, 0, 0, 0, 0, 1, 0, 1, 0, 0, 1, 1, 0, 0, 1, 0, 0, 0, 1, 0, 0, 1, 0, 1, 0, 0, 1, 1, 1, 1, 0, 0, 0, 1, 1, 0, 0, 1, 0, 0, 1, 1, 0, 0, 0, 1, 0, 1, 0, 0, 1, 1, 1, 0, 1, 0, 1, 0, 1, 1, 1, 0, 0, 1, 1, 0, 0, 0, 0, 0, 0, 0, 1, 0, 0, 1, 0, 0, 0, 1, 0, 1, 1, 1, 1, 0, 0, 0, 0, 0, 1, 1, 0, 1, 0, 1, 0, 0, 0, 1, 1, 1, 0, 1, 0, 0, 1, 0, 0, 0, 1, 0, 0, 0, 1, 1, 1, 0]\n",
            ".List Profit of Max : [0, 0, 0, 0, 0, 0, 0, 0, 0, 0, 0, 516.3912238671612, 516.3912238671612, 620.5361561742616, 620.5361561742616, 620.5361561742616, 620.5361561742616, 620.5361561742616, 620.5361561742616, 620.5361561742616, 620.5361561742616, 620.5361561742616, 620.5361561742616, 783.692599506826, 783.692599506826, 783.692599506826, 962.7088541570773, 962.7088541570773, 962.7088541570773, 962.7088541570773, 1494.564419795408, 1494.564419795408, 1631.5808854407517, 1631.5808854407517, 1631.5808854407517, 1631.5808854407517, 1631.5808854407517, 1631.5808854407517, 1631.5808854407517, 1631.5808854407517, 1631.5808854407517, 1783.8701038288991, 1783.8701038288991, 1783.8701038288991, 1783.8701038288991, 1783.8701038288991, 1783.8701038288991, 1783.8701038288991, 1783.8701038288991, 1811.905941094812, 1811.905941094812, 1811.905941094812, 1811.905941094812, 1811.905941094812, 1811.905941094812, 1811.905941094812, 1811.905941094812, 1811.905941094812, 1811.905941094812, 2017.7552562599103, 2017.7552562599103, 2017.7552562599103, 2017.7552562599103, 2017.7552562599103, 2017.7552562599103, 2017.7552562599103, 2017.7552562599103, 2017.7552562599103, 2017.7552562599103, 2017.7552562599103, 2081.2543213253994, 2081.2543213253994, 2081.2543213253994, 2081.2543213253994, 2081.2543213253994, 2081.2543213253994, 2081.2543213253994, 2081.2543213253994, 2081.2543213253994, 2081.2543213253994, 2153.1726011950627, 2153.1726011950627, 2153.1726011950627, 2153.1726011950627, 2153.1726011950627, 2153.1726011950627, 2164.0566390670815, 2164.0566390670815, 2164.0566390670815, 2164.0566390670815, 2164.0566390670815, 2164.0566390670815, 2164.0566390670815, 2164.0566390670815, 2164.0566390670815, 2164.0566390670815, 2164.0566390670815, 2164.0566390670815, 2164.0566390670815, 2164.0566390670815, 2164.0566390670815, 2164.0566390670815, 2164.0566390670815, 2164.0566390670815, 2174.5407084707326, 2174.5407084707326, 2174.5407084707326, 2174.5407084707326, 2174.5407084707326, 2174.5407084707326, 2174.5407084707326, 2174.5407084707326, 2174.5407084707326, 2241.3107060583743, 2241.3107060583743, 2241.3107060583743, 2241.3107060583743, 2270.990832557168, 2270.990832557168, 2270.990832557168, 2270.990832557168, 2270.990832557168, 2270.990832557168, 2270.990832557168, 2390.8270704903325, 2390.8270704903325, 2390.8270704903325, 2390.8270704903325, 2479.8675513027465, 2479.8675513027465, 2479.8675513027465, 2479.8675513027465, 2648.864532775936, 2648.864532775936, 2648.864532775936, 2648.864532775936, 2648.864532775936, 2648.864532775936, 2710.352338782703, 2710.352338782703, 2710.352338782703, 2710.352338782703, 2710.352338782703, 2710.352338782703, 2710.352338782703, 2710.352338782703, 2724.969239576494, 2724.969239576494, 2724.969239576494, 2724.969239576494, 2724.969239576494, 2724.969239576494, 2724.969239576494, 2724.969239576494, 2788.465691969778, 2788.465691969778, 2788.465691969778, 2788.465691969778, 2788.465691969778, 2788.465691969778, 2788.465691969778, 2788.465691969778, 2788.465691969778, 2831.546099980978, 2831.546099980978, 2831.546099980978, 2831.546099980978, 2846.9049781579024, 2846.9049781579024, 2846.9049781579024, 2846.9049781579024, 2846.9049781579024, 2846.9049781579024, 2846.9049781579024, 2846.9049781579024, 2846.9049781579024, 2846.9049781579024, 2846.9049781579024, 2846.9049781579024, 2846.9049781579024, 2846.9049781579024, 2846.9049781579024, 2846.9049781579024, 2846.9049781579024, 2846.9049781579024, 2846.9049781579024, 2846.9049781579024, 2846.9049781579024, 2846.9049781579024, 2846.9049781579024, 2846.9049781579024, 2893.0545747208857, 2893.0545747208857, 2893.0545747208857, 2893.0545747208857, 2893.0545747208857, 2893.0545747208857, 2893.0545747208857, 2893.0545747208857, 2893.0545747208857, 2893.0545747208857, 2893.0545747208857, 2964.6525387334304, 2964.6525387334304, 2964.6525387334304, 2964.6525387334304, 3044.167045179317, 3044.167045179317, 3044.167045179317, 3069.0470978439344, 3069.0470978439344, 3069.0470978439344, 3069.0470978439344, 3069.0470978439344, 3069.0470978439344, 3069.0470978439344, 3069.0470978439344, 3095.0187053537325, 3095.0187053537325, 3095.0187053537325, 3095.0187053537325, 3095.0187053537325, 3095.0187053537325, 3095.0187053537325, 3095.0187053537325, 3095.0187053537325, 3095.0187053537325, 3095.0187053537325, 3095.0187053537325, 3095.0187053537325, 3095.0187053537325, 3095.0187053537325, 3095.0187053537325, 3095.0187053537325, 3095.0187053537325, 3095.0187053537325, 3095.0187053537325, 3095.0187053537325, 3095.0187053537325, 3112.7421242224555, 3112.7421242224555, 3112.7421242224555, 3112.7421242224555, 3112.7421242224555, 3112.7421242224555, 3113.4952819388727, 3113.4952819388727, 3152.546386044313, 3152.546386044313, 3152.546386044313, 3152.546386044313, 3152.546386044313, 3152.546386044313, 3152.546386044313, 3178.3585374791273, 3178.3585374791273, 3178.3585374791273, 3185.6083946875224, 3185.6083946875224, 3185.6083946875224, 3185.6083946875224, 3185.6083946875224, 3185.6083946875224, 3185.6083946875224, 3185.6083946875224, 3243.3010249219496, 3243.3010249219496, 3243.3010249219496, 3243.3010249219496, 3243.3010249219496, 3243.3010249219496, 3243.3010249219496, 3243.3010249219496, 3267.729592330209, 3267.729592330209, 3267.729592330209, 3267.729592330209, 3267.729592330209, 3267.729592330209, 3267.729592330209, 3267.729592330209, 3267.729592330209, 3267.729592330209, 3267.729592330209, 3267.729592330209, 3267.729592330209, 3267.729592330209, 3317.401921435295, 3317.401921435295, 3317.401921435295, 3317.401921435295, 3317.401921435295, 3317.401921435295, 3317.401921435295, 3317.401921435295, 3317.401921435295, 3317.401921435295, 3317.401921435295, 3317.401921435295, 3332.4944404628345, 3332.4944404628345, 3332.4944404628345, 3332.4944404628345, 3332.4944404628345, 3332.4944404628345, 3352.7838486196565, 3352.7838486196565, 3352.7838486196565, 3352.7838486196565, 3352.7838486196565, 3366.981365851949, 3366.981365851949, 3366.981365851949, 3366.981365851949, 3366.981365851949, 3366.981365851949, 3366.981365851949, 3366.981365851949, 3366.981365851949, 3366.981365851949, 3366.981365851949, 3366.981365851949, 3366.981365851949, 3366.981365851949, 3366.981365851949, 3366.981365851949, 3366.981365851949, 3366.981365851949, 3366.981365851949, 3366.981365851949, 3383.728650972408, 3383.728650972408, 3383.728650972408, 3383.728650972408, 3383.728650972408, 3383.728650972408, 3383.728650972408, 3383.728650972408, 3383.728650972408, 3383.728650972408, 3383.728650972408, 3383.728650972408, 3383.728650972408, 3383.728650972408, 3383.728650972408, 3383.728650972408, 3383.728650972408, 3383.728650972408, 3411.5722863584497, 3411.5722863584497, 3411.5722863584497, 3411.5722863584497, 3411.5722863584497, 3447.3507242289998, 3447.3507242289998, 3447.3507242289998, 3447.3507242289998, 3447.3507242289998, 3447.3507242289998, 3447.3507242289998, 3447.3507242289998, 3477.111798373163, 3477.111798373163, 3477.111798373163, 3477.111798373163]\n",
            "....Initial Investment : 100\n",
            "....After Investment : 300.8774674938702\n",
            "Increase/Decrease by percentage : 201.02029861536025\n"
          ]
        }
      ],
      "source": [
        "#\n",
        "q_table = np.random.uniform(low=-2, high=0, size=(agent.size_state, agent.size_action))\n",
        "agent.q_t = q_table\n",
        "reward = 0\n",
        "total_episodes = 100\n",
        "learning_rate = agent.lr                  \n",
        "gamma = agent.gamma                  \n",
        "             \n",
        "Close_predict = predicted_prices[:,0]\n",
        "total_profit = 0\n",
        "\n",
        "agent.epsilon = 0.99\n",
        "agent.epsilon_min = 0.01\n",
        "agent.epsilon_decay = 0.999\n",
        "\n",
        "Highest_profit = 0\n",
        "list_profit_t = [] # --flag\n",
        "max_action_list = []\n",
        "max_profit_list = []\n",
        "max_reward = 0\n",
        "max_profit = 0\n",
        "max_episode = 0\n",
        "Thredshold = 0.1\n",
        "for episode in range(total_episodes):\n",
        "  action_list = []\n",
        "  profit_list = []\n",
        "  agent.Sold_prices = []\n",
        "  state = 0\n",
        "  step = 0\n",
        "  reward = 0\n",
        "  total_profit = 0\n",
        "  Highest_profit_temp = 0\n",
        "  agent.Profit = 0\n",
        "  done = False\n",
        "  print(\".Episode [{}]-----------------------\" .format(episode))\n",
        "\n",
        "  for step in range(0,agent.size_state-1):\n",
        "    agent.q_t[state,:] = q_table[state,:]\n",
        "    action = agent.action(q_table[state,:])\n",
        "    next_state = agent.Get_State(step)\n",
        "\n",
        "    if agent.trend_data[step] == 1 : #Trend Tăng\n",
        "      if action == 0: #Buy\n",
        "        if len(agent.Sold_prices) == 0:\n",
        "          agent.Sold_prices.append(Close_predict[step]) # Close_prices\n",
        "          # print(\".Day [{}]---------------------------\".format(step))\n",
        "          # print(\"Buy :\",Close_predict[step])\n",
        "          # print(\" _.Trend Line : {}\".format(\"Increase\" if agent.trend_data[step] == 1 else \"Decrease\"))\n",
        "          # print(\"-----------------------------------------------------------------\")\n",
        "\n",
        "      if action == 1: #Sell\n",
        "        if agent.Close_prices[step] > Open_prices[step]: #fix\n",
        "          if len(agent.Sold_prices) == 1:\n",
        "            agent.Bought_prices = agent.Sold_prices.pop(0)\n",
        "            if agent.Close_prices_real[step] > agent.Bought_prices:\n",
        "              agent.Profit += (agent.Close_prices_real[step] - agent.Bought_prices)*Ns\n",
        "            reward = max((agent.Close_prices_real[step] - agent.Bought_prices)*Ns,0)\n",
        "              # print(\".Day [{}]---------------------------\".format(step))\n",
        "              # print(\" .Sell: {} | Profit: ({} - {})*{} = {}\".format(agent.Bought_prices,agent.Close_prices_real[step],agent.Bought_prices,Ns,(agent.Close_prices_real[step] - agent.Bought_prices)*Ns))\n",
        "              # print(\" _.Trend Line : {}\".format(\"Increase\" if agent.trend_data[step] == 1 else \"Decrease\"))\n",
        "              # print(\"-----------------------------------------------------------------\")\n",
        "          # elif agent.Close_prices[step] < Open_prices[step]: #Hold\n",
        "          #   action = 2\n",
        "\n",
        "    elif agent.trend_data[step] == 0: #Trend Giảm\n",
        "      if action == 0: #Buy\n",
        "          if Close_predict[step] > Open_prices[step]:\n",
        "            if len(agent.Sold_prices) == 0:\n",
        "              agent.Sold_prices.append(Close_predict[step]) # Close_prices\n",
        "              # print(\".Day [{}]---------------------------\".format(step))\n",
        "              # print(\"Buy :\",Close_predict[step])\n",
        "              # print(\" _.Trend Line : {}\".format(\"Increase\" if agent.trend_data[step] == 1 else \"Decrease\"))\n",
        "              # print(\"-----------------------------------------------------------------\")\n",
        "          # elif Close_predict[step] < Open_prices[step]: #Hold\n",
        "          #   action = 2\n",
        "\n",
        "      if action == 1: #Sell\n",
        "        if len(agent.Sold_prices) == 1: #Sell\n",
        "          agent.Bought_prices = agent.Sold_prices.pop(0)\n",
        "          if agent.Close_prices_real[step] > agent.Bought_prices:\n",
        "            agent.Profit += (agent.Close_prices_real[step] - agent.Bought_prices)*Ns\n",
        "          reward = max((agent.Close_prices_real[step] - agent.Bought_prices)*Ns,0)\n",
        "            # print(\".Day [{}]---------------------------\".format(step))\n",
        "            # print(\" .Sell: {} | Profit: ({} - {})*{} = {}\".format(agent.Bought_prices,agent.Close_prices_real[step],agent.Bought_prices,Ns,(agent.Close_prices_real[step] - agent.Bought_prices)*Ns))\n",
        "            # print(\" _.Trend Line : {}\".format(\"Increase\" if agent.trend_data[step] == 1 else \"Decrease\"))\n",
        "            # print(\"-----------------------------------------------------------------\")\n",
        "    q_table[state,action] = q_table[state,action] + agent.lr*(reward + agent.gamma*np.max(q_table[next_state,:]) - q_table[state,action])\n",
        "\n",
        "    state = next_state    \n",
        "    profit_list.append(agent.Profit)\n",
        "    action_list.append(action)\n",
        "    \n",
        "    if Highest_profit_temp < agent.Profit:\n",
        "      Highest_profit_temp = agent.Profit\n",
        "\n",
        "    done = True if step == (len(predicted_prices)-2) else False\n",
        "    if done:\n",
        "      while len(agent.Sold_prices) > 0:\n",
        "        agent.Bought_prices = agent.Sold_prices.pop(0)\n",
        "        if agent.Close_prices_real[step] > agent.Bought_prices:\n",
        "          agent.Profit += (agent.Close_prices_real[step] - agent.Bought_prices)*Ns\n",
        "          # print(\".Day [{}]---------------------------\".format(step))\n",
        "          # print(\" .Sell: {} | Profit: ({} - {})*{} = {}\".format(agent.Bought_prices,Open_prices[step],agent.Bought_prices,Ns,(agent.Close_prices_real[step] - agent.Bought_prices)*Ns))\n",
        "        break      \n",
        "      if agent.Profit > max_profit: \n",
        "        max_profit = agent.Profit\n",
        "        max_action_list = action_list\n",
        "        max_profit_list = profit_list\n",
        "        Highest_profit = Highest_profit_temp\n",
        "        max_episode = episode\n",
        "      list_profit_t.append(agent.Profit) # --flag\n",
        "      temp_list_profit_t = np.array(list_profit_t)\n",
        "      Length_temp = len(temp_list_profit_t)\n",
        "      print(\" .Total Profit: {} ----- .AVG Daily Return: {}% ----- .Accumulated Return: {}%\".format(agent.Profit, Average_day(temp_list_profit_t[Length_temp-1],temp_list_profit_t[Length_temp-2]),np.round(Accumulated_return(agent.Profit+Ns,Ns),2)))\n",
        "      print(\" .Epsilon :\",agent.epsilon)\n",
        "    # if agent.epsilon < Thredshold:\n",
        "    #   agent.epsilon = 0.99\n",
        "  if agent.epsilon > agent.epsilon_min:\n",
        "    agent.epsilon *= agent.epsilon_decay\n",
        "\n",
        "print(\"Max profit in each episode: \", list_profit_t) # --flag\n",
        "print(\".Total of Profit in entire transition\",max_profit)\n",
        "print(\".The Highest episode gain: {}\".format(max_episode))\n",
        "print(\".Highest Profit in each transition :\", Highest_profit)\n",
        "print(\".Max_action_list :\", max_action_list)\n",
        "print(\".List Profit of Max :\",max_profit_list)\n",
        "print(\"....Initial Investment : {}\".format(agent.CRV))\n",
        "print(\"....After Investment : {}\".format((max_profit+Ns)*agent.Open_prices))\n",
        "print(\"Increase/Decrease by percentage : {}\".format(((max_profit)/Ns)*100))"
      ]
    },
    {
      "cell_type": "markdown",
      "metadata": {
        "id": "mtougKUtDCJG"
      },
      "source": [
        "###GRAPH"
      ]
    },
    {
      "cell_type": "code",
      "execution_count": 37,
      "metadata": {
        "colab": {
          "base_uri": "https://localhost:8080/",
          "height": 295
        },
        "id": "leH0ueTcDD6v",
        "outputId": "4bf85890-c0b5-4e19-e0ef-32ced12bd005"
      },
      "outputs": [
        {
          "output_type": "display_data",
          "data": {
            "text/plain": [
              "<Figure size 432x288 with 1 Axes>"
            ],
            "image/png": "[encoded data removed]"
          },
          "metadata": {
            "needs_background": "light"
          }
        }
      ],
      "source": [
        "Graph()"
      ]
    },
    {
      "cell_type": "markdown",
      "metadata": {
        "id": "wSu6VUKR6wkw"
      },
      "source": [
        "###Accuracy of profit between IDEAL and MDP"
      ]
    },
    {
      "cell_type": "code",
      "execution_count": 38,
      "metadata": {
        "colab": {
          "base_uri": "https://localhost:8080/"
        },
        "id": "DAcazO7f6-ae",
        "outputId": "b8cfb4a2-32a7-4640-8e83-8a5ac7c6c3bf"
      },
      "outputs": [
        {
          "output_type": "stream",
          "name": "stdout",
          "text": [
            "Accuracy of Profit: [71.52]%\n"
          ]
        }
      ],
      "source": [
        "print(\"Accuracy of Profit: {}%\".format(Accuracy(TP,max_profit)))"
      ]
    },
    {
      "cell_type": "markdown",
      "source": [
        "###Drawdown of profit over processing of model above"
      ],
      "metadata": {
        "id": "w63S6Ihuhv2_"
      }
    },
    {
      "cell_type": "code",
      "source": [
        "Pmax = max_profit\n",
        "Pt = np.array(list_profit_t)\n",
        "print(\"Drawdown of entire profit over processing: {}%\".format(np.round(Drawdown(Pmax,Pt,len(Pt)),2)))"
      ],
      "metadata": {
        "id": "DcfFeC00iJyc",
        "colab": {
          "base_uri": "https://localhost:8080/"
        },
        "outputId": "7ab09f92-53da-44c4-9f9d-02f466c70151"
      },
      "execution_count": 41,
      "outputs": [
        {
          "output_type": "stream",
          "name": "stdout",
          "text": [
            "Drawdown of entire profit over processing: 45.59%\n"
          ]
        }
      ]
    },
    {
      "cell_type": "markdown",
      "source": [
        "###Accumulated Return of highest investment"
      ],
      "metadata": {
        "id": "Q2lbb_tU-U4K"
      }
    },
    {
      "cell_type": "code",
      "source": [
        "Accumulated = np.round(Accumulated_return(max_profit+Ns,Ns),2)\n",
        "print(\"Accumulated Return: {}%\".format(Accumulated))"
      ],
      "metadata": {
        "colab": {
          "base_uri": "https://localhost:8080/"
        },
        "id": "zT_u31HCA0Og",
        "outputId": "1355b312-b9d0-40c2-ef5f-b7e6e277493e"
      },
      "execution_count": 42,
      "outputs": [
        {
          "output_type": "stream",
          "name": "stdout",
          "text": [
            "Accumulated Return: 201.02%\n"
          ]
        }
      ]
    },
    {
      "cell_type": "markdown",
      "source": [
        "###---------------------------------------------------"
      ],
      "metadata": {
        "id": "-uCVnXwlDYwT"
      }
    },
    {
      "cell_type": "markdown",
      "metadata": {
        "id": "7YX4_1SJ0-dW"
      },
      "source": [
        "###1. Predict Stock Price with Sell/Buy( Random )"
      ]
    },
    {
      "cell_type": "code",
      "execution_count": 43,
      "metadata": {
        "id": "RJ8KVRJddTeq"
      },
      "outputs": [],
      "source": [
        "agent1 = Envr()\n",
        "agent = agent1"
      ]
    },
    {
      "cell_type": "code",
      "execution_count": 44,
      "metadata": {
        "colab": {
          "base_uri": "https://localhost:8080/"
        },
        "id": "4pBojg_-0-Kw",
        "outputId": "ee0d6b38-e49d-48d4-dcbe-cc73ec8e2a80"
      },
      "outputs": [
        {
          "output_type": "stream",
          "name": "stdout",
          "text": [
            ".Episode [0]-----------------------\n",
            " .Total Profit: 2851.757879697901 ----- .AVG Daily Return: 0.0% ----- .Accumulated Return: 163.8%\n",
            " .Epsilon : 0.99\n",
            ".Episode [1]-----------------------\n",
            " .Total Profit: 1615.2696410389597 ----- .AVG Daily Return: -43.36% ----- .Accumulated Return: 92.78%\n",
            " .Epsilon : 0.98901\n",
            ".Episode [2]-----------------------\n",
            " .Total Profit: 2429.9075896308755 ----- .AVG Daily Return: 50.43% ----- .Accumulated Return: 139.57%\n",
            " .Epsilon : 0.98802099\n",
            ".Episode [3]-----------------------\n",
            " .Total Profit: 2356.306123204694 ----- .AVG Daily Return: -3.03% ----- .Accumulated Return: 135.34%\n",
            " .Epsilon : 0.98703296901\n",
            ".Episode [4]-----------------------\n",
            " .Total Profit: 2927.3609696658245 ----- .AVG Daily Return: 24.24% ----- .Accumulated Return: 168.14%\n",
            " .Epsilon : 0.98604593604099\n",
            ".Episode [5]-----------------------\n",
            " .Total Profit: 2455.1475183843113 ----- .AVG Daily Return: -16.13% ----- .Accumulated Return: 141.02%\n",
            " .Epsilon : 0.985059890104949\n",
            ".Episode [6]-----------------------\n",
            " .Total Profit: 2120.185497131092 ----- .AVG Daily Return: -13.64% ----- .Accumulated Return: 121.78%\n",
            " .Epsilon : 0.984074830214844\n",
            ".Episode [7]-----------------------\n",
            " .Total Profit: 2307.711005805326 ----- .AVG Daily Return: 8.84% ----- .Accumulated Return: 132.55%\n",
            " .Epsilon : 0.9830907553846291\n",
            ".Episode [8]-----------------------\n",
            " .Total Profit: 2331.7908307541493 ----- .AVG Daily Return: 1.04% ----- .Accumulated Return: 133.93%\n",
            " .Epsilon : 0.9821076646292445\n",
            ".Episode [9]-----------------------\n",
            " .Total Profit: 2657.8767427596767 ----- .AVG Daily Return: 13.98% ----- .Accumulated Return: 152.66%\n",
            " .Epsilon : 0.9811255569646152\n",
            ".Episode [10]-----------------------\n",
            " .Total Profit: 2357.373833387172 ----- .AVG Daily Return: -11.31% ----- .Accumulated Return: 135.4%\n",
            " .Epsilon : 0.9801444314076506\n",
            ".Episode [11]-----------------------\n",
            " .Total Profit: 2614.1167511428803 ----- .AVG Daily Return: 10.89% ----- .Accumulated Return: 150.15%\n",
            " .Epsilon : 0.9791642869762429\n",
            ".Episode [12]-----------------------\n",
            " .Total Profit: 2276.0979782400254 ----- .AVG Daily Return: -12.93% ----- .Accumulated Return: 130.74%\n",
            " .Epsilon : 0.9781851226892667\n",
            ".Episode [13]-----------------------\n",
            " .Total Profit: 3026.419407815788 ----- .AVG Daily Return: 32.97% ----- .Accumulated Return: 173.83%\n",
            " .Epsilon : 0.9772069375665775\n",
            ".Episode [14]-----------------------\n",
            " .Total Profit: 2391.525078956041 ----- .AVG Daily Return: -20.98% ----- .Accumulated Return: 137.37%\n",
            " .Epsilon : 0.976229730629011\n",
            ".Episode [15]-----------------------\n",
            " .Total Profit: 2516.0012642031897 ----- .AVG Daily Return: 5.2% ----- .Accumulated Return: 144.51%\n",
            " .Epsilon : 0.9752535008983819\n",
            ".Episode [16]-----------------------\n",
            " .Total Profit: 2699.9899631091457 ----- .AVG Daily Return: 7.31% ----- .Accumulated Return: 155.08%\n",
            " .Epsilon : 0.9742782473974836\n",
            ".Episode [17]-----------------------\n",
            " .Total Profit: 2099.9084104482627 ----- .AVG Daily Return: -22.23% ----- .Accumulated Return: 120.62%\n",
            " .Epsilon : 0.9733039691500861\n",
            ".Episode [18]-----------------------\n",
            " .Total Profit: 1994.212987961422 ----- .AVG Daily Return: -5.03% ----- .Accumulated Return: 114.54%\n",
            " .Epsilon : 0.972330665180936\n",
            ".Episode [19]-----------------------\n",
            " .Total Profit: 2864.2684553632334 ----- .AVG Daily Return: 43.63% ----- .Accumulated Return: 164.52%\n",
            " .Epsilon : 0.971358334515755\n",
            ".Episode [20]-----------------------\n",
            " .Total Profit: 2004.3976304603877 ----- .AVG Daily Return: -30.02% ----- .Accumulated Return: 115.13%\n",
            " .Epsilon : 0.9703869761812393\n",
            ".Episode [21]-----------------------\n",
            " .Total Profit: 2242.874379376571 ----- .AVG Daily Return: 11.9% ----- .Accumulated Return: 128.83%\n",
            " .Epsilon : 0.969416589205058\n",
            ".Episode [22]-----------------------\n",
            " .Total Profit: 2513.1345792226357 ----- .AVG Daily Return: 12.05% ----- .Accumulated Return: 144.35%\n",
            " .Epsilon : 0.968447172615853\n",
            ".Episode [23]-----------------------\n",
            " .Total Profit: 1684.9668573274407 ----- .AVG Daily Return: -32.95% ----- .Accumulated Return: 96.78%\n",
            " .Epsilon : 0.9674787254432371\n",
            ".Episode [24]-----------------------\n",
            " .Total Profit: 2833.9232166713186 ----- .AVG Daily Return: 68.19% ----- .Accumulated Return: 162.78%\n",
            " .Epsilon : 0.9665112467177939\n",
            ".Episode [25]-----------------------\n",
            " .Total Profit: 2298.582805878169 ----- .AVG Daily Return: -18.89% ----- .Accumulated Return: 132.03%\n",
            " .Epsilon : 0.9655447354710761\n",
            ".Episode [26]-----------------------\n",
            " .Total Profit: 2438.4637207679866 ----- .AVG Daily Return: 6.09% ----- .Accumulated Return: 140.06%\n",
            " .Epsilon : 0.964579190735605\n",
            ".Episode [27]-----------------------\n",
            " .Total Profit: 2465.448040751499 ----- .AVG Daily Return: 1.11% ----- .Accumulated Return: 141.61%\n",
            " .Epsilon : 0.9636146115448695\n",
            ".Episode [28]-----------------------\n",
            " .Total Profit: 2477.22510162968 ----- .AVG Daily Return: 0.48% ----- .Accumulated Return: 142.29%\n",
            " .Epsilon : 0.9626509969333247\n",
            ".Episode [29]-----------------------\n",
            " .Total Profit: 2658.3438128713083 ----- .AVG Daily Return: 7.31% ----- .Accumulated Return: 152.69%\n",
            " .Epsilon : 0.9616883459363913\n",
            ".Episode [30]-----------------------\n",
            " .Total Profit: 2154.1748270890657 ----- .AVG Daily Return: -18.97% ----- .Accumulated Return: 123.73%\n",
            " .Epsilon : 0.960726657590455\n",
            ".Episode [31]-----------------------\n",
            " .Total Profit: 2419.9317288806274 ----- .AVG Daily Return: 12.34% ----- .Accumulated Return: 139.0%\n",
            " .Epsilon : 0.9597659309328644\n",
            ".Episode [32]-----------------------\n",
            " .Total Profit: 2347.4347898923866 ----- .AVG Daily Return: -3.0% ----- .Accumulated Return: 134.83%\n",
            " .Epsilon : 0.9588061650019316\n",
            ".Episode [33]-----------------------\n",
            " .Total Profit: 2552.917471216555 ----- .AVG Daily Return: 8.75% ----- .Accumulated Return: 146.64%\n",
            " .Epsilon : 0.9578473588369297\n",
            ".Episode [34]-----------------------\n",
            " .Total Profit: 1568.7533548536123 ----- .AVG Daily Return: -38.55% ----- .Accumulated Return: 90.11%\n",
            " .Epsilon : 0.9568895114780928\n",
            ".Episode [35]-----------------------\n",
            " .Total Profit: 2476.704082397269 ----- .AVG Daily Return: 57.88% ----- .Accumulated Return: 142.26%\n",
            " .Epsilon : 0.9559326219666147\n",
            ".Episode [36]-----------------------\n",
            " .Total Profit: 2328.919640703064 ----- .AVG Daily Return: -5.97% ----- .Accumulated Return: 133.77%\n",
            " .Epsilon : 0.9549766893446481\n",
            ".Episode [37]-----------------------\n",
            " .Total Profit: 1908.524764952489 ----- .AVG Daily Return: -18.05% ----- .Accumulated Return: 109.62%\n",
            " .Epsilon : 0.9540217126553034\n",
            ".Episode [38]-----------------------\n",
            " .Total Profit: 2135.396165684653 ----- .AVG Daily Return: 11.89% ----- .Accumulated Return: 122.65%\n",
            " .Epsilon : 0.9530676909426481\n",
            ".Episode [39]-----------------------\n",
            " .Total Profit: 2199.8031471239665 ----- .AVG Daily Return: 3.02% ----- .Accumulated Return: 126.35%\n",
            " .Epsilon : 0.9521146232517055\n",
            ".Episode [40]-----------------------\n",
            " .Total Profit: 2069.1803819568186 ----- .AVG Daily Return: -5.94% ----- .Accumulated Return: 118.85%\n",
            " .Epsilon : 0.9511625086284538\n",
            ".Episode [41]-----------------------\n",
            " .Total Profit: 2025.2235640858053 ----- .AVG Daily Return: -2.12% ----- .Accumulated Return: 116.33%\n",
            " .Epsilon : 0.9502113461198253\n",
            ".Episode [42]-----------------------\n",
            " .Total Profit: 2140.991154334721 ----- .AVG Daily Return: 5.72% ----- .Accumulated Return: 122.97%\n",
            " .Epsilon : 0.9492611347737054\n",
            ".Episode [43]-----------------------\n",
            " .Total Profit: 2361.6004888531243 ----- .AVG Daily Return: 10.3% ----- .Accumulated Return: 135.65%\n",
            " .Epsilon : 0.9483118736389318\n",
            ".Episode [44]-----------------------\n",
            " .Total Profit: 2199.80463842646 ----- .AVG Daily Return: -6.85% ----- .Accumulated Return: 126.35%\n",
            " .Epsilon : 0.9473635617652928\n",
            ".Episode [45]-----------------------\n",
            " .Total Profit: 2872.1246124228987 ----- .AVG Daily Return: 30.56% ----- .Accumulated Return: 164.97%\n",
            " .Epsilon : 0.9464161982035275\n",
            ".Episode [46]-----------------------\n",
            " .Total Profit: 1586.1803967177439 ----- .AVG Daily Return: -44.77% ----- .Accumulated Return: 91.11%\n",
            " .Epsilon : 0.9454697820053239\n",
            ".Episode [47]-----------------------\n",
            " .Total Profit: 2764.395350301961 ----- .AVG Daily Return: 74.28% ----- .Accumulated Return: 158.78%\n",
            " .Epsilon : 0.9445243122233187\n",
            ".Episode [48]-----------------------\n",
            " .Total Profit: 2536.127887263589 ----- .AVG Daily Return: -8.26% ----- .Accumulated Return: 145.67%\n",
            " .Epsilon : 0.9435797879110953\n",
            ".Episode [49]-----------------------\n",
            " .Total Profit: 2309.96479331674 ----- .AVG Daily Return: -8.92% ----- .Accumulated Return: 132.68%\n",
            " .Epsilon : 0.9426362081231843\n",
            ".Episode [50]-----------------------\n",
            " .Total Profit: 2215.716360221162 ----- .AVG Daily Return: -4.08% ----- .Accumulated Return: 127.27%\n",
            " .Epsilon : 0.9416935719150611\n",
            ".Episode [51]-----------------------\n",
            " .Total Profit: 2211.7118407091766 ----- .AVG Daily Return: -0.18% ----- .Accumulated Return: 127.04%\n",
            " .Epsilon : 0.940751878343146\n",
            ".Episode [52]-----------------------\n",
            " .Total Profit: 2693.471290429927 ----- .AVG Daily Return: 21.78% ----- .Accumulated Return: 154.71%\n",
            " .Epsilon : 0.9398111264648028\n",
            ".Episode [53]-----------------------\n",
            " .Total Profit: 2123.8347690836245 ----- .AVG Daily Return: -21.15% ----- .Accumulated Return: 121.99%\n",
            " .Epsilon : 0.938871315338338\n",
            ".Episode [54]-----------------------\n",
            " .Total Profit: 2815.3861796033857 ----- .AVG Daily Return: 32.56% ----- .Accumulated Return: 161.71%\n",
            " .Epsilon : 0.9379324440229997\n",
            ".Episode [55]-----------------------\n",
            " .Total Profit: 2050.935227605239 ----- .AVG Daily Return: -27.15% ----- .Accumulated Return: 117.8%\n",
            " .Epsilon : 0.9369945115789767\n",
            ".Episode [56]-----------------------\n",
            " .Total Profit: 2371.9090450271215 ----- .AVG Daily Return: 15.65% ----- .Accumulated Return: 136.24%\n",
            " .Epsilon : 0.9360575170673977\n",
            ".Episode [57]-----------------------\n",
            " .Total Profit: 1798.1143070463843 ----- .AVG Daily Return: -24.19% ----- .Accumulated Return: 103.28%\n",
            " .Epsilon : 0.9351214595503303\n",
            ".Episode [58]-----------------------\n",
            " .Total Profit: 2159.676964257638 ----- .AVG Daily Return: 20.11% ----- .Accumulated Return: 124.05%\n",
            " .Epsilon : 0.93418633809078\n",
            ".Episode [59]-----------------------\n",
            " .Total Profit: 1562.9447434645576 ----- .AVG Daily Return: -27.63% ----- .Accumulated Return: 89.77%\n",
            " .Epsilon : 0.9332521517526893\n",
            ".Episode [60]-----------------------\n",
            " .Total Profit: 2820.293016494074 ----- .AVG Daily Return: 80.45% ----- .Accumulated Return: 161.99%\n",
            " .Epsilon : 0.9323188996009366\n",
            ".Episode [61]-----------------------\n",
            " .Total Profit: 2020.9362120768105 ----- .AVG Daily Return: -28.34% ----- .Accumulated Return: 116.08%\n",
            " .Epsilon : 0.9313865807013356\n",
            ".Episode [62]-----------------------\n",
            " .Total Profit: 2726.567372166046 ----- .AVG Daily Return: 34.92% ----- .Accumulated Return: 156.61%\n",
            " .Epsilon : 0.9304551941206343\n",
            ".Episode [63]-----------------------\n",
            " .Total Profit: 2663.121186029741 ----- .AVG Daily Return: -2.33% ----- .Accumulated Return: 152.97%\n",
            " .Epsilon : 0.9295247389265137\n",
            ".Episode [64]-----------------------\n",
            " .Total Profit: 1635.0737096246262 ----- .AVG Daily Return: -38.6% ----- .Accumulated Return: 93.92%\n",
            " .Epsilon : 0.9285952141875872\n",
            ".Episode [65]-----------------------\n",
            " .Total Profit: 1892.5894733007747 ----- .AVG Daily Return: 15.75% ----- .Accumulated Return: 108.71%\n",
            " .Epsilon : 0.9276666189733996\n",
            ".Episode [66]-----------------------\n",
            " .Total Profit: 2397.460552639465 ----- .AVG Daily Return: 26.68% ----- .Accumulated Return: 137.71%\n",
            " .Epsilon : 0.9267389523544263\n",
            ".Episode [67]-----------------------\n",
            " .Total Profit: 1567.9848560910073 ----- .AVG Daily Return: -34.6% ----- .Accumulated Return: 90.06%\n",
            " .Epsilon : 0.9258122134020719\n",
            ".Episode [68]-----------------------\n",
            " .Total Profit: 2775.8284746116583 ----- .AVG Daily Return: 77.03% ----- .Accumulated Return: 159.44%\n",
            " .Epsilon : 0.9248864011886698\n",
            ".Episode [69]-----------------------\n",
            " .Total Profit: 2525.0247795509827 ----- .AVG Daily Return: -9.04% ----- .Accumulated Return: 145.03%\n",
            " .Epsilon : 0.9239615147874811\n",
            ".Episode [70]-----------------------\n",
            " .Total Profit: 2433.8830740723533 ----- .AVG Daily Return: -3.61% ----- .Accumulated Return: 139.8%\n",
            " .Epsilon : 0.9230375532726937\n",
            ".Episode [71]-----------------------\n",
            " .Total Profit: 2094.007115491925 ----- .AVG Daily Return: -13.96% ----- .Accumulated Return: 120.28%\n",
            " .Epsilon : 0.9221145157194209\n",
            ".Episode [72]-----------------------\n",
            " .Total Profit: 1591.6866280284396 ----- .AVG Daily Return: -23.99% ----- .Accumulated Return: 91.42%\n",
            " .Epsilon : 0.9211924012037015\n",
            ".Episode [73]-----------------------\n",
            " .Total Profit: 2282.791043804451 ----- .AVG Daily Return: 43.42% ----- .Accumulated Return: 131.12%\n",
            " .Epsilon : 0.9202712088024978\n",
            ".Episode [74]-----------------------\n",
            " .Total Profit: 2152.441545729221 ----- .AVG Daily Return: -5.71% ----- .Accumulated Return: 123.63%\n",
            " .Epsilon : 0.9193509375936953\n",
            ".Episode [75]-----------------------\n",
            " .Total Profit: 2579.3925613265887 ----- .AVG Daily Return: 19.84% ----- .Accumulated Return: 148.16%\n",
            " .Epsilon : 0.9184315866561017\n",
            ".Episode [76]-----------------------\n",
            " .Total Profit: 2447.406234649017 ----- .AVG Daily Return: -5.12% ----- .Accumulated Return: 140.57%\n",
            " .Epsilon : 0.9175131550694456\n",
            ".Episode [77]-----------------------\n",
            " .Total Profit: 1986.5828966068937 ----- .AVG Daily Return: -18.83% ----- .Accumulated Return: 114.11%\n",
            " .Epsilon : 0.9165956419143761\n",
            ".Episode [78]-----------------------\n",
            " .Total Profit: 2643.140799232957 ----- .AVG Daily Return: 33.05% ----- .Accumulated Return: 151.82%\n",
            " .Epsilon : 0.9156790462724618\n",
            ".Episode [79]-----------------------\n",
            " .Total Profit: 1570.6177139860322 ----- .AVG Daily Return: -40.58% ----- .Accumulated Return: 90.21%\n",
            " .Epsilon : 0.9147633672261893\n",
            ".Episode [80]-----------------------\n",
            " .Total Profit: 2883.4347986396833 ----- .AVG Daily Return: 83.59% ----- .Accumulated Return: 165.62%\n",
            " .Epsilon : 0.9138486038589632\n",
            ".Episode [81]-----------------------\n",
            " .Total Profit: 2206.8451641323823 ----- .AVG Daily Return: -23.46% ----- .Accumulated Return: 126.76%\n",
            " .Epsilon : 0.9129347552551041\n",
            ".Episode [82]-----------------------\n",
            " .Total Profit: 2233.529258686834 ----- .AVG Daily Return: 1.21% ----- .Accumulated Return: 128.29%\n",
            " .Epsilon : 0.912021820499849\n",
            ".Episode [83]-----------------------\n",
            " .Total Profit: 2251.854113126039 ----- .AVG Daily Return: 0.82% ----- .Accumulated Return: 129.34%\n",
            " .Epsilon : 0.9111097986793492\n",
            ".Episode [84]-----------------------\n",
            " .Total Profit: 2816.29305889252 ----- .AVG Daily Return: 25.07% ----- .Accumulated Return: 161.76%\n",
            " .Epsilon : 0.9101986888806698\n",
            ".Episode [85]-----------------------\n",
            " .Total Profit: 2793.2454122237637 ----- .AVG Daily Return: -0.82% ----- .Accumulated Return: 160.44%\n",
            " .Epsilon : 0.9092884901917891\n",
            ".Episode [86]-----------------------\n",
            " .Total Profit: 1932.9166063131256 ----- .AVG Daily Return: -30.8% ----- .Accumulated Return: 111.02%\n",
            " .Epsilon : 0.9083792017015974\n",
            ".Episode [87]-----------------------\n",
            " .Total Profit: 2954.071375699929 ----- .AVG Daily Return: 52.83% ----- .Accumulated Return: 169.68%\n",
            " .Epsilon : 0.9074708224998957\n",
            ".Episode [88]-----------------------\n",
            " .Total Profit: 2798.3161523939666 ----- .AVG Daily Return: -5.27% ----- .Accumulated Return: 160.73%\n",
            " .Epsilon : 0.9065633516773959\n",
            ".Episode [89]-----------------------\n",
            " .Total Profit: 2063.977322434374 ----- .AVG Daily Return: -26.24% ----- .Accumulated Return: 118.55%\n",
            " .Epsilon : 0.9056567883257185\n",
            ".Episode [90]-----------------------\n",
            " .Total Profit: 1984.3433900773616 ----- .AVG Daily Return: -3.86% ----- .Accumulated Return: 113.98%\n",
            " .Epsilon : 0.9047511315373927\n",
            ".Episode [91]-----------------------\n",
            " .Total Profit: 2159.653380915287 ----- .AVG Daily Return: 8.83% ----- .Accumulated Return: 124.05%\n",
            " .Epsilon : 0.9038463804058553\n",
            ".Episode [92]-----------------------\n",
            " .Total Profit: 2466.5685764315363 ----- .AVG Daily Return: 14.21% ----- .Accumulated Return: 141.68%\n",
            " .Epsilon : 0.9029425340254494\n",
            ".Episode [93]-----------------------\n",
            " .Total Profit: 2754.4019128744617 ----- .AVG Daily Return: 11.67% ----- .Accumulated Return: 158.21%\n",
            " .Epsilon : 0.902039591491424\n",
            ".Episode [94]-----------------------\n",
            " .Total Profit: 2002.150159783492 ----- .AVG Daily Return: -27.31% ----- .Accumulated Return: 115.0%\n",
            " .Epsilon : 0.9011375518999326\n",
            ".Episode [95]-----------------------\n",
            " .Total Profit: 2269.4588922276307 ----- .AVG Daily Return: 13.35% ----- .Accumulated Return: 130.35%\n",
            " .Epsilon : 0.9002364143480327\n",
            ".Episode [96]-----------------------\n",
            " .Total Profit: 2502.4266165711992 ----- .AVG Daily Return: 10.27% ----- .Accumulated Return: 143.74%\n",
            " .Epsilon : 0.8993361779336847\n",
            ".Episode [97]-----------------------\n",
            " .Total Profit: 2870.83680400789 ----- .AVG Daily Return: 14.72% ----- .Accumulated Return: 164.9%\n",
            " .Epsilon : 0.898436841755751\n",
            ".Episode [98]-----------------------\n",
            " .Total Profit: 2244.4253183696865 ----- .AVG Daily Return: -21.82% ----- .Accumulated Return: 128.92%\n",
            " .Epsilon : 0.8975384049139953\n",
            ".Episode [99]-----------------------\n",
            " .Total Profit: 2483.2238469057206 ----- .AVG Daily Return: 10.64% ----- .Accumulated Return: 142.63%\n",
            " .Epsilon : 0.8966408665090813\n",
            "Max profit in each episode:  [2851.757879697901, 1615.2696410389597, 2429.9075896308755, 2356.306123204694, 2927.3609696658245, 2455.1475183843113, 2120.185497131092, 2307.711005805326, 2331.7908307541493, 2657.8767427596767, 2357.373833387172, 2614.1167511428803, 2276.0979782400254, 3026.419407815788, 2391.525078956041, 2516.0012642031897, 2699.9899631091457, 2099.9084104482627, 1994.212987961422, 2864.2684553632334, 2004.3976304603877, 2242.874379376571, 2513.1345792226357, 1684.9668573274407, 2833.9232166713186, 2298.582805878169, 2438.4637207679866, 2465.448040751499, 2477.22510162968, 2658.3438128713083, 2154.1748270890657, 2419.9317288806274, 2347.4347898923866, 2552.917471216555, 1568.7533548536123, 2476.704082397269, 2328.919640703064, 1908.524764952489, 2135.396165684653, 2199.8031471239665, 2069.1803819568186, 2025.2235640858053, 2140.991154334721, 2361.6004888531243, 2199.80463842646, 2872.1246124228987, 1586.1803967177439, 2764.395350301961, 2536.127887263589, 2309.96479331674, 2215.716360221162, 2211.7118407091766, 2693.471290429927, 2123.8347690836245, 2815.3861796033857, 2050.935227605239, 2371.9090450271215, 1798.1143070463843, 2159.676964257638, 1562.9447434645576, 2820.293016494074, 2020.9362120768105, 2726.567372166046, 2663.121186029741, 1635.0737096246262, 1892.5894733007747, 2397.460552639465, 1567.9848560910073, 2775.8284746116583, 2525.0247795509827, 2433.8830740723533, 2094.007115491925, 1591.6866280284396, 2282.791043804451, 2152.441545729221, 2579.3925613265887, 2447.406234649017, 1986.5828966068937, 2643.140799232957, 1570.6177139860322, 2883.4347986396833, 2206.8451641323823, 2233.529258686834, 2251.854113126039, 2816.29305889252, 2793.2454122237637, 1932.9166063131256, 2954.071375699929, 2798.3161523939666, 2063.977322434374, 1984.3433900773616, 2159.653380915287, 2466.5685764315363, 2754.4019128744617, 2002.150159783492, 2269.4588922276307, 2502.4266165711992, 2870.83680400789, 2244.4253183696865, 2483.2238469057206]\n",
            ".Total of Profit in entire transition 3026.419407815788\n",
            ".The Highest episode gain: 13\n",
            ".Highest Profit in each transition : 3026.419407815788\n",
            ".Max_action_list : [1, 1, 0, 0, 1, 0, 1, 1, 1, 0, 0, 1, 0, 1, 0, 1, 1, 0, 1, 1, 0, 1, 0, 1, 0, 0, 0, 0, 0, 0, 1, 0, 0, 0, 1, 1, 0, 1, 1, 0, 1, 0, 1, 0, 1, 0, 0, 0, 1, 0, 1, 0, 0, 1, 0, 1, 0, 0, 1, 1, 0, 0, 1, 0, 1, 0, 0, 0, 0, 0, 0, 0, 1, 1, 1, 0, 1, 0, 1, 1, 1, 0, 0, 0, 1, 1, 0, 1, 0, 0, 1, 0, 1, 1, 1, 1, 1, 0, 1, 1, 0, 1, 1, 0, 1, 0, 0, 1, 1, 0, 0, 1, 1, 0, 0, 1, 0, 1, 1, 1, 1, 0, 1, 1, 1, 1, 1, 1, 1, 1, 1, 0, 1, 1, 1, 0, 0, 1, 0, 1, 1, 1, 0, 0, 1, 0, 1, 1, 1, 1, 1, 0, 0, 1, 0, 0, 2, 0, 0, 1, 0, 0, 1, 0, 1, 0, 1, 1, 1, 0, 0, 0, 0, 1, 0, 1, 0, 1, 0, 1, 1, 0, 0, 1, 0, 1, 1, 0, 1, 1, 0, 0, 0, 0, 0, 0, 0, 1, 0, 0, 1, 0, 1, 0, 0, 1, 0, 1, 1, 1, 1, 0, 1, 0, 0, 1, 0, 1, 1, 0, 1, 0, 1, 1, 0, 1, 1, 1, 0, 1, 1, 0, 0, 0, 1, 1, 1, 1, 0, 1, 1, 0, 1, 1, 0, 0, 1, 1, 0, 1, 0, 0, 1, 0, 1, 0, 0, 1, 0, 1, 1, 0, 1, 0, 0, 0, 1, 0, 0, 1, 0, 1, 1, 1, 0, 0, 1, 0, 0, 0, 1, 1, 1, 0, 1, 1, 1, 1, 0, 1, 0, 0, 1, 0, 0, 1, 1, 1, 0, 0, 1, 0, 1, 1, 0, 0, 1, 0, 0, 1, 1, 0, 0, 1, 0, 1, 0, 0, 0, 1, 1, 1, 0, 0, 1, 1, 0, 1, 0, 0, 1, 1, 0, 1, 1, 0, 1, 1, 0, 1, 1, 0, 0, 0, 1, 0, 0, 1, 0, 1, 0, 1, 0, 1, 0, 0, 1, 0, 1, 0, 0, 0, 1, 0, 1]\n",
            ".List Profit of Max : [0, 0, 0, 0, -36.10069964520311, -36.10069964520311, 13.955475985178225, 13.955475985178225, 13.955475985178225, 13.955475985178225, 13.955475985178225, 508.0451396664898, 508.0451396664898, 612.1900719735901, 612.1900719735901, 573.2619410126488, 573.2619410126488, 573.2619410126488, 551.3379069901688, 551.3379069901688, 551.3379069901688, 620.3136409289668, 620.3136409289668, 717.5408964719719, 717.5408964719719, 717.5408964719719, 717.5408964719719, 717.5408964719719, 717.5408964719719, 717.5408964719719, 1357.3058371222232, 1357.3058371222232, 1357.3058371222232, 1357.3058371222232, 1294.6174157675669, 1294.6174157675669, 1294.6174157675669, 1211.2204067279893, 1211.2204067279893, 1211.2204067279893, 1324.7722598913765, 1324.7722598913765, 1267.9282540657348, 1267.9282540657348, 1123.1771830307007, 1123.1771830307007, 1123.1771830307007, 1123.1771830307007, 1046.8544784291134, 1046.8544784291134, 1081.4135066706829, 1081.4135066706829, 1081.4135066706829, 1059.1415089919549, 1059.1415089919549, 1058.7573802852937, 1058.7573802852937, 1058.7573802852937, 1323.8027770871793, 1323.8027770871793, 1323.8027770871793, 1323.8027770871793, 1284.5169801261216, 1284.5169801261216, 1327.3225496390535, 1327.3225496390535, 1327.3225496390535, 1327.3225496390535, 1327.3225496390535, 1327.3225496390535, 1327.3225496390535, 1327.3225496390535, 1349.391546929642, 1349.391546929642, 1349.391546929642, 1349.391546929642, 1374.095016887375, 1374.095016887375, 1264.1131500401423, 1264.1131500401423, 1264.1131500401423, 1264.1131500401423, 1264.1131500401423, 1264.1131500401423, 1349.375482471518, 1349.375482471518, 1349.375482471518, 1366.8713520461686, 1366.8713520461686, 1366.8713520461686, 1397.3679601420558, 1397.3679601420558, 1409.415155517238, 1409.415155517238, 1409.415155517238, 1409.415155517238, 1409.415155517238, 1409.415155517238, 1431.7258330178845, 1431.7258330178845, 1431.7258330178845, 1417.638506101293, 1417.638506101293, 1417.638506101293, 1446.3057357950663, 1446.3057357950663, 1446.3057357950663, 1488.8703950821937, 1488.8703950821937, 1488.8703950821937, 1488.8703950821937, 1529.9576338554434, 1529.9576338554434, 1529.9576338554434, 1529.9576338554434, 1559.7120024458975, 1559.7120024458975, 1588.5463378134332, 1588.5463378134332, 1588.5463378134332, 1588.5463378134332, 1588.5463378134332, 1612.357577148168, 1612.357577148168, 1612.357577148168, 1612.357577148168, 1612.357577148168, 1612.357577148168, 1612.357577148168, 1612.357577148168, 1612.357577148168, 1612.357577148168, 1766.6320803061233, 1766.6320803061233, 1766.6320803061233, 1766.6320803061233, 1766.6320803061233, 1806.861379234056, 1806.861379234056, 1850.165022086179, 1850.165022086179, 1850.165022086179, 1850.165022086179, 1850.165022086179, 1861.6644336439279, 1861.6644336439279, 1891.8805019038823, 1891.8805019038823, 1891.8805019038823, 1891.8805019038823, 1891.8805019038823, 1891.8805019038823, 1891.8805019038823, 1958.65347458925, 1958.65347458925, 1958.65347458925, 1958.65347458925, 1958.65347458925, 1958.65347458925, 1874.836545128259, 1874.836545128259, 1874.836545128259, 1902.213968803719, 1902.213968803719, 1927.1459079525073, 1927.1459079525073, 1956.857590129432, 1956.857590129432, 1956.857590129432, 1956.857590129432, 1956.857590129432, 1956.857590129432, 1956.857590129432, 1959.7893837478632, 1959.7893837478632, 1957.043619227735, 1957.043619227735, 1979.6492807030988, 1979.6492807030988, 2056.15313440079, 2056.15313440079, 2056.15313440079, 2056.15313440079, 2136.1547349637735, 2136.1547349637735, 2167.9151640100877, 2167.9151640100877, 2167.9151640100877, 2171.9418295149057, 2171.9418295149057, 2171.9418295149057, 2171.9418295149057, 2171.9418295149057, 2171.9418295149057, 2171.9418295149057, 2171.9418295149057, 2171.9418295149057, 2228.3454371109533, 2228.3454371109533, 2228.3454371109533, 2251.1306868549736, 2251.1306868549736, 2329.8490489121045, 2329.8490489121045, 2329.8490489121045, 2317.2490877254954, 2317.2490877254954, 2401.8171447302316, 2401.8171447302316, 2401.8171447302316, 2401.8171447302316, 2401.8171447302316, 2421.269295862922, 2421.269295862922, 2421.269295862922, 2442.0158052569886, 2442.0158052569886, 2503.0287505101883, 2503.0287505101883, 2503.0287505101883, 2500.7698143038683, 2500.7698143038683, 2530.5038363581552, 2530.5038363581552, 2530.5038363581552, 2516.988997805856, 2516.988997805856, 2516.988997805856, 2516.988997805856, 2551.9962964834995, 2551.9962964834995, 2551.9962964834995, 2551.9962964834995, 2551.9962964834995, 2549.9372356847507, 2549.9372356847507, 2549.9372356847507, 2549.9372356847507, 2549.9372356847507, 2595.1554298785336, 2595.1554298785336, 2595.1554298785336, 2591.2323941387904, 2591.2323941387904, 2591.2323941387904, 2591.2323941387904, 2589.2086568552077, 2589.2086568552077, 2589.2086568552077, 2589.246160892447, 2589.246160892447, 2589.246160892447, 2582.1073214818225, 2582.1073214818225, 2634.0781358914714, 2634.0781358914714, 2634.0781358914714, 2649.293715303121, 2649.293715303121, 2660.7409086393714, 2660.7409086393714, 2660.7409086393714, 2710.5073272753025, 2710.5073272753025, 2710.5073272753025, 2710.5073272753025, 2747.5953881625487, 2747.5953881625487, 2747.5953881625487, 2735.055638791886, 2735.055638791886, 2765.26449207213, 2765.26449207213, 2765.26449207213, 2765.26449207213, 2765.26449207213, 2753.194403226694, 2753.194403226694, 2753.194403226694, 2753.194403226694, 2737.7721310526395, 2737.7721310526395, 2737.7721310526395, 2737.7721310526395, 2799.8765248057953, 2799.8765248057953, 2799.8765248057953, 2799.8765248057953, 2799.8765248057953, 2785.9893495104384, 2785.9893495104384, 2785.9893495104384, 2753.1120186456483, 2753.1120186456483, 2753.1120186456483, 2768.1923506731873, 2768.1923506731873, 2768.1923506731873, 2768.1923506731873, 2768.1923506731873, 2770.2284126725904, 2770.2284126725904, 2785.3050995859817, 2785.3050995859817, 2785.3050995859817, 2785.3050995859817, 2808.8770550130857, 2808.8770550130857, 2808.8770550130857, 2844.4849239518703, 2844.4849239518703, 2844.4849239518703, 2844.4849239518703, 2826.384975736486, 2826.384975736486, 2845.093751827535, 2845.093751827535, 2845.093751827535, 2845.093751827535, 2847.9329928950046, 2847.9329928950046, 2847.9329928950046, 2847.9329928950046, 2847.9329928950046, 2843.8449028136333, 2843.8449028136333, 2843.8449028136333, 2853.3768553109508, 2853.3768553109508, 2853.3768553109508, 2874.33647964639, 2874.33647964639, 2874.33647964639, 2862.463331784319, 2862.463331784319, 2862.463331784319, 2858.263134342317, 2858.263134342317, 2858.263134342317, 2866.957556080736, 2866.957556080736, 2866.957556080736, 2866.957556080736, 2866.957556080736, 2865.597994374426, 2865.597994374426, 2865.597994374426, 2886.8803253570595, 2886.8803253570595, 2897.313078824895, 2897.313078824895, 2907.0113023237723, 2907.0113023237723, 2944.07632750714, 2944.07632750714, 2944.07632750714, 2979.786398651303, 2979.786398651303, 2998.2412223747574, 2998.2412223747574, 2998.2412223747574, 2998.2412223747574, 2999.3774866666477, 2999.3774866666477, 3026.419407815788]\n",
            "....Initial Investment : 100\n",
            "....After Investment : 273.70231562211217\n",
            "Increase/Decrease by percentage : 173.8322462846518\n"
          ]
        }
      ],
      "source": [
        "#\n",
        "q_table = np.random.uniform(low=-2, high=0, size=(agent.size_state, agent.size_action))\n",
        "agent.q_t = q_table\n",
        "reward = 0\n",
        "total_episodes = 100\n",
        "learning_rate = agent.lr                  \n",
        "gamma = agent.gamma                  \n",
        "             \n",
        "Close_predict = predicted_prices[:,0]\n",
        "total_profit = 0\n",
        "\n",
        "agent.epsilon = 0.99\n",
        "agent.epsilon_min = 0.01\n",
        "agent.epsilon_decay = 0.999\n",
        "Thredshold = 0.1\n",
        "\n",
        "Highest_profit = 0\n",
        "list_profit_t = [] \n",
        "max_action_list = []\n",
        "max_profit_list = []\n",
        "max_reward = 0\n",
        "max_profit = 0\n",
        "max_episode = 0\n",
        "for episode in range(total_episodes):\n",
        "  action_list = []\n",
        "  profit_list = []\n",
        "  agent.Sold_prices = []\n",
        "  state = 0\n",
        "  step = 0\n",
        "  reward = 0\n",
        "  total_profit = 0\n",
        "  Highest_profit_temp = 0\n",
        "  agent.Profit = 0\n",
        "  done = False\n",
        "  print(\".Episode [{}]-----------------------\" .format(episode))\n",
        "\n",
        "  for step in range(0,agent.size_state-1):\n",
        "    agent.q_t[state,:] = q_table[state,:]\n",
        "    action = agent.action(q_table[state,:])\n",
        "    next_state = agent.Get_State(step)\n",
        "\n",
        "    if action == 0 and len(agent.Sold_prices) == 0: #Buy, Trend Tăng\n",
        "      agent.Sold_prices.append(Close_predict[step]) # Close_prices\n",
        "      # print(\".Day [{}]---------------------------\".format(step))\n",
        "      # print(\"Buy :\",Close_predict[step])\n",
        "      # print(\" _.Trend Line : {}\".format(\"Increase\" if agent.trend_data[step] == 1 else \"Decrease\"))\n",
        "      # print(\"-----------------------------------------------------------------\")\n",
        "    \n",
        "    if action == 1 and len(agent.Sold_prices) == 1: #Sell Trend Giảm\n",
        "      agent.Bought_prices = agent.Sold_prices.pop(0)\n",
        "      agent.Profit += (agent.Close_prices_real[step] - agent.Bought_prices)*Ns\n",
        "      reward = max((agent.Close_prices_real[step] - agent.Bought_prices)*Ns,0)\n",
        "      # print(\".Day [{}]---------------------------\".format(step))\n",
        "      # print(\" .Sell: {} | Profit: ({} - {})*{} = {}\".format(agent.Bought_prices,agent.Close_prices_real[step],agent.Bought_prices,Ns,(agent.Close_prices_real[step] - agent.Bought_prices)*Ns))\n",
        "      # print(\" _.Trend Line : {}\".format(\"Increase\" if agent.trend_data[step] == 1 else \"Decrease\"))\n",
        "      # print(\"-----------------------------------------------------------------\")\n",
        "    \n",
        "    q_table[state,action] = q_table[state,action] + agent.lr*(reward + agent.gamma*np.max(q_table[next_state,:]) - q_table[state,action])\n",
        "\n",
        "    state = next_state    \n",
        "    profit_list.append(agent.Profit)\n",
        "    action_list.append(action)\n",
        "    \n",
        "    if Highest_profit_temp < agent.Profit:\n",
        "      Highest_profit_temp = agent.Profit\n",
        "\n",
        "    done = True if step == (len(predicted_prices)-2) else False\n",
        "    if done:\n",
        "      while len(agent.Sold_prices) > 0:\n",
        "        agent.Bought_prices = agent.Sold_prices.pop(0)\n",
        "        if agent.Close_prices_real[step] > agent.Bought_prices:\n",
        "          agent.Profit += (agent.Close_prices_real[step] - agent.Bought_prices)*Ns\n",
        "        # print(\".Day [{}]---------------------------\".format(step))\n",
        "        # print(\" .Sell: {} | Profit: ({} - {})*{} = {}\".format(agent.Bought_prices,Open_prices[step],agent.Bought_prices,Ns,(Open_prices[step] - agent.Bought_prices)*Ns))\n",
        "        break\n",
        "      if agent.Profit > max_profit: \n",
        "        max_profit = agent.Profit\n",
        "        max_action_list = action_list\n",
        "        max_profit_list = profit_list\n",
        "        Highest_profit = Highest_profit_temp\n",
        "        max_episode = episode\n",
        "      list_profit_t.append(agent.Profit)\n",
        "      temp_list_profit_t = np.array(list_profit_t)\n",
        "      Length_temp = len(temp_list_profit_t)\n",
        "      print(\" .Total Profit: {} ----- .AVG Daily Return: {}% ----- .Accumulated Return: {}%\".format(agent.Profit, Average_day(temp_list_profit_t[Length_temp-1],temp_list_profit_t[Length_temp-2]),np.round(Accumulated_return(agent.Profit+Ns,Ns),2)))\n",
        "      print(\" .Epsilon :\",agent.epsilon)\n",
        "    # if agent.epsilon < Thredshold:\n",
        "    #   agent.epsilon = 0.99\n",
        "  if agent.epsilon > agent.epsilon_min:\n",
        "    agent.epsilon *= agent.epsilon_decay\n",
        "\n",
        "print(\"Max profit in each episode: \", list_profit_t) \n",
        "print(\".Total of Profit in entire transition\",max_profit)\n",
        "print(\".The Highest episode gain: {}\".format(max_episode))\n",
        "print(\".Highest Profit in each transition :\", Highest_profit)\n",
        "print(\".Max_action_list :\", max_action_list)\n",
        "print(\".List Profit of Max :\",max_profit_list)\n",
        "print(\"....Initial Investment : {}\".format(agent.CRV))\n",
        "print(\"....After Investment : {}\".format((max_profit+Ns)*agent.Open_prices))\n",
        "print(\"Increase/Decrease by percentage : {}\".format(((max_profit)/Ns)*100))"
      ]
    },
    {
      "cell_type": "markdown",
      "metadata": {
        "id": "eQrEdXWx1X6a"
      },
      "source": [
        "###GRAPH"
      ]
    },
    {
      "cell_type": "code",
      "execution_count": 45,
      "metadata": {
        "colab": {
          "base_uri": "https://localhost:8080/",
          "height": 295
        },
        "id": "djPneHay1X6b",
        "outputId": "5aedf0a5-49ab-4b84-89e9-a2ff7fcaafad"
      },
      "outputs": [
        {
          "output_type": "display_data",
          "data": {
            "text/plain": [
              "<Figure size 432x288 with 1 Axes>"
            ],
            "image/png": "[encoded data removed]"
          },
          "metadata": {
            "needs_background": "light"
          }
        }
      ],
      "source": [
        "Graph()"
      ]
    },
    {
      "cell_type": "markdown",
      "metadata": {
        "id": "53QETLbl1X6c"
      },
      "source": [
        "###Accuracy of profit between IDEAL and MDP"
      ]
    },
    {
      "cell_type": "code",
      "execution_count": 46,
      "metadata": {
        "colab": {
          "base_uri": "https://localhost:8080/"
        },
        "id": "uX0C16l21X6c",
        "outputId": "91169550-ee83-47d8-e060-b0ad61e077d6"
      },
      "outputs": [
        {
          "output_type": "stream",
          "name": "stdout",
          "text": [
            "Accuracy of Profit: [61.85]%\n"
          ]
        }
      ],
      "source": [
        "print(\"Accuracy of Profit: {}%\".format(Accuracy(TP,max_profit)))"
      ]
    },
    {
      "cell_type": "markdown",
      "source": [
        "###Drawdown of profit over processing of model above"
      ],
      "metadata": {
        "id": "GHUs08bPzXXc"
      }
    },
    {
      "cell_type": "code",
      "source": [
        "Pmax = max_profit\n",
        "Pt = np.array(list_profit_t)\n",
        "print(\"Drawdown of entire profit over processing: {}%\".format(np.round(Drawdown(Pmax,Pt,len(Pt)),2)))"
      ],
      "metadata": {
        "colab": {
          "base_uri": "https://localhost:8080/"
        },
        "outputId": "fae8bbbe-1c83-4ad9-dc05-70f599ce2c5e",
        "id": "iO30T9hUzXXd"
      },
      "execution_count": 47,
      "outputs": [
        {
          "output_type": "stream",
          "name": "stdout",
          "text": [
            "Drawdown of entire profit over processing: 48.36%\n"
          ]
        }
      ]
    },
    {
      "cell_type": "markdown",
      "source": [
        "###Accumulated Return of highest investment"
      ],
      "metadata": {
        "id": "NVXhJ4zxDLQz"
      }
    },
    {
      "cell_type": "code",
      "source": [
        "Accumulated = np.round(Accumulated_return(max_profit+Ns,Ns),2)\n",
        "print(\"Accumulated Return: {}%\".format(Accumulated))"
      ],
      "metadata": {
        "colab": {
          "base_uri": "https://localhost:8080/"
        },
        "outputId": "ebaa83a1-b1cb-42be-d44b-cc9c662319e8",
        "id": "882NBZFGDLQ7"
      },
      "execution_count": 48,
      "outputs": [
        {
          "output_type": "stream",
          "name": "stdout",
          "text": [
            "Accumulated Return: 173.83%\n"
          ]
        }
      ]
    },
    {
      "cell_type": "markdown",
      "metadata": {
        "id": "iJHBVZle1gaF"
      },
      "source": [
        "###----------------------------------------------------------------------------"
      ]
    },
    {
      "cell_type": "markdown",
      "metadata": {
        "id": "Vrzd5Y401kEm"
      },
      "source": [
        "###2. Predict Stock Prices Buy/Sell Base on Trend (Not extend)"
      ]
    },
    {
      "cell_type": "code",
      "execution_count": 68,
      "metadata": {
        "id": "3ppYTTBkdjUp"
      },
      "outputs": [],
      "source": [
        "agent2 = Envr()\n",
        "agent = agent2"
      ]
    },
    {
      "cell_type": "code",
      "execution_count": 69,
      "metadata": {
        "id": "wM9QzbNJ1pMD",
        "colab": {
          "base_uri": "https://localhost:8080/"
        },
        "outputId": "7131e3aa-fddd-4a12-c696-223c0d77886a"
      },
      "outputs": [
        {
          "output_type": "stream",
          "name": "stdout",
          "text": [
            ".Episode [0]-----------------------\n",
            " .Total Profit: 3156.5360987387885 ----- .AVG Daily Return: 0.0% ----- .Accumulated Return: 181.31%\n",
            " .Epsilon : 0.99\n",
            ".Episode [1]-----------------------\n",
            " .Total Profit: 2773.960405612805 ----- .AVG Daily Return: -12.12% ----- .Accumulated Return: 159.33%\n",
            " .Epsilon : 0.98901\n",
            ".Episode [2]-----------------------\n",
            " .Total Profit: 2823.3067925168307 ----- .AVG Daily Return: 1.78% ----- .Accumulated Return: 162.17%\n",
            " .Epsilon : 0.98802099\n",
            ".Episode [3]-----------------------\n",
            " .Total Profit: 3514.5833059471693 ----- .AVG Daily Return: 24.48% ----- .Accumulated Return: 201.87%\n",
            " .Epsilon : 0.98703296901\n",
            ".Episode [4]-----------------------\n",
            " .Total Profit: 2557.712194182012 ----- .AVG Daily Return: -27.23% ----- .Accumulated Return: 146.91%\n",
            " .Epsilon : 0.98604593604099\n",
            ".Episode [5]-----------------------\n",
            " .Total Profit: 2921.6183525150846 ----- .AVG Daily Return: 14.23% ----- .Accumulated Return: 167.81%\n",
            " .Epsilon : 0.985059890104949\n",
            ".Episode [6]-----------------------\n",
            " .Total Profit: 2377.1986900085503 ----- .AVG Daily Return: -18.63% ----- .Accumulated Return: 136.54%\n",
            " .Epsilon : 0.984074830214844\n",
            ".Episode [7]-----------------------\n",
            " .Total Profit: 2978.71086711213 ----- .AVG Daily Return: 25.3% ----- .Accumulated Return: 171.09%\n",
            " .Epsilon : 0.9830907553846291\n",
            ".Episode [8]-----------------------\n",
            " .Total Profit: 2963.5610363676674 ----- .AVG Daily Return: -0.51% ----- .Accumulated Return: 170.22%\n",
            " .Epsilon : 0.9821076646292445\n",
            ".Episode [9]-----------------------\n",
            " .Total Profit: 2966.910539077701 ----- .AVG Daily Return: 0.11% ----- .Accumulated Return: 170.41%\n",
            " .Epsilon : 0.9811255569646152\n",
            ".Episode [10]-----------------------\n",
            " .Total Profit: 2901.176824595336 ----- .AVG Daily Return: -2.22% ----- .Accumulated Return: 166.64%\n",
            " .Epsilon : 0.9801444314076506\n",
            ".Episode [11]-----------------------\n",
            " .Total Profit: 2999.163800759756 ----- .AVG Daily Return: 3.38% ----- .Accumulated Return: 172.27%\n",
            " .Epsilon : 0.9791642869762429\n",
            ".Episode [12]-----------------------\n",
            " .Total Profit: 2750.388329766544 ----- .AVG Daily Return: -8.29% ----- .Accumulated Return: 157.98%\n",
            " .Epsilon : 0.9781851226892667\n",
            ".Episode [13]-----------------------\n",
            " .Total Profit: 2632.5779235973646 ----- .AVG Daily Return: -4.28% ----- .Accumulated Return: 151.21%\n",
            " .Epsilon : 0.9772069375665775\n",
            ".Episode [14]-----------------------\n",
            " .Total Profit: 3078.291410557768 ----- .AVG Daily Return: 16.93% ----- .Accumulated Return: 176.81%\n",
            " .Epsilon : 0.976229730629011\n",
            ".Episode [15]-----------------------\n",
            " .Total Profit: 3149.9590300713135 ----- .AVG Daily Return: 2.33% ----- .Accumulated Return: 180.93%\n",
            " .Epsilon : 0.9752535008983819\n",
            ".Episode [16]-----------------------\n",
            " .Total Profit: 2969.429960848854 ----- .AVG Daily Return: -5.73% ----- .Accumulated Return: 170.56%\n",
            " .Epsilon : 0.9742782473974836\n",
            ".Episode [17]-----------------------\n",
            " .Total Profit: 2728.7706217183904 ----- .AVG Daily Return: -8.1% ----- .Accumulated Return: 156.74%\n",
            " .Epsilon : 0.9733039691500861\n",
            ".Episode [18]-----------------------\n",
            " .Total Profit: 3545.75549818906 ----- .AVG Daily Return: 29.94% ----- .Accumulated Return: 203.66%\n",
            " .Epsilon : 0.972330665180936\n",
            ".Episode [19]-----------------------\n",
            " .Total Profit: 3198.527596519599 ----- .AVG Daily Return: -9.79% ----- .Accumulated Return: 183.72%\n",
            " .Epsilon : 0.971358334515755\n",
            ".Episode [20]-----------------------\n",
            " .Total Profit: 3009.3841717947807 ----- .AVG Daily Return: -5.91% ----- .Accumulated Return: 172.85%\n",
            " .Epsilon : 0.9703869761812393\n",
            ".Episode [21]-----------------------\n",
            " .Total Profit: 2156.091858556184 ----- .AVG Daily Return: -28.35% ----- .Accumulated Return: 123.84%\n",
            " .Epsilon : 0.969416589205058\n",
            ".Episode [22]-----------------------\n",
            " .Total Profit: 2528.082443917432 ----- .AVG Daily Return: 17.25% ----- .Accumulated Return: 145.21%\n",
            " .Epsilon : 0.968447172615853\n",
            ".Episode [23]-----------------------\n",
            " .Total Profit: 3236.0090017316365 ----- .AVG Daily Return: 28.0% ----- .Accumulated Return: 185.87%\n",
            " .Epsilon : 0.9674787254432371\n",
            ".Episode [24]-----------------------\n",
            " .Total Profit: 2185.564592281983 ----- .AVG Daily Return: -32.46% ----- .Accumulated Return: 125.54%\n",
            " .Epsilon : 0.9665112467177939\n",
            ".Episode [25]-----------------------\n",
            " .Total Profit: 2936.2547317313756 ----- .AVG Daily Return: 34.35% ----- .Accumulated Return: 168.65%\n",
            " .Epsilon : 0.9655447354710761\n",
            ".Episode [26]-----------------------\n",
            " .Total Profit: 2735.776462528823 ----- .AVG Daily Return: -6.83% ----- .Accumulated Return: 157.14%\n",
            " .Epsilon : 0.964579190735605\n",
            ".Episode [27]-----------------------\n",
            " .Total Profit: 3398.5394570641156 ----- .AVG Daily Return: 24.23% ----- .Accumulated Return: 195.21%\n",
            " .Epsilon : 0.9636146115448695\n",
            ".Episode [28]-----------------------\n",
            " .Total Profit: 2631.8374710237713 ----- .AVG Daily Return: -22.56% ----- .Accumulated Return: 151.17%\n",
            " .Epsilon : 0.9626509969333247\n",
            ".Episode [29]-----------------------\n",
            " .Total Profit: 3373.6707921167617 ----- .AVG Daily Return: 28.19% ----- .Accumulated Return: 193.78%\n",
            " .Epsilon : 0.9616883459363913\n",
            ".Episode [30]-----------------------\n",
            " .Total Profit: 2766.3888017316553 ----- .AVG Daily Return: -18.0% ----- .Accumulated Return: 158.9%\n",
            " .Epsilon : 0.960726657590455\n",
            ".Episode [31]-----------------------\n",
            " .Total Profit: 2309.7144173826237 ----- .AVG Daily Return: -16.51% ----- .Accumulated Return: 132.67%\n",
            " .Epsilon : 0.9597659309328644\n",
            ".Episode [32]-----------------------\n",
            " .Total Profit: 2942.3889655108533 ----- .AVG Daily Return: 27.39% ----- .Accumulated Return: 169.01%\n",
            " .Epsilon : 0.9588061650019316\n",
            ".Episode [33]-----------------------\n",
            " .Total Profit: 2545.4474855050144 ----- .AVG Daily Return: -13.49% ----- .Accumulated Return: 146.21%\n",
            " .Epsilon : 0.9578473588369297\n",
            ".Episode [34]-----------------------\n",
            " .Total Profit: 2491.713758974856 ----- .AVG Daily Return: -2.11% ----- .Accumulated Return: 143.12%\n",
            " .Epsilon : 0.9568895114780928\n",
            ".Episode [35]-----------------------\n",
            " .Total Profit: 2769.446830767585 ----- .AVG Daily Return: 11.15% ----- .Accumulated Return: 159.07%\n",
            " .Epsilon : 0.9559326219666147\n",
            ".Episode [36]-----------------------\n",
            " .Total Profit: 3090.4895356430056 ----- .AVG Daily Return: 11.59% ----- .Accumulated Return: 177.51%\n",
            " .Epsilon : 0.9549766893446481\n",
            ".Episode [37]-----------------------\n",
            " .Total Profit: 3182.366873592122 ----- .AVG Daily Return: 2.97% ----- .Accumulated Return: 182.79%\n",
            " .Epsilon : 0.9540217126553034\n",
            ".Episode [38]-----------------------\n",
            " .Total Profit: 2846.855896135937 ----- .AVG Daily Return: -10.54% ----- .Accumulated Return: 163.52%\n",
            " .Epsilon : 0.9530676909426481\n",
            ".Episode [39]-----------------------\n",
            " .Total Profit: 2526.918687813521 ----- .AVG Daily Return: -11.24% ----- .Accumulated Return: 145.14%\n",
            " .Epsilon : 0.9521146232517055\n",
            ".Episode [40]-----------------------\n",
            " .Total Profit: 3360.2797182237637 ----- .AVG Daily Return: 32.98% ----- .Accumulated Return: 193.01%\n",
            " .Epsilon : 0.9511625086284538\n",
            ".Episode [41]-----------------------\n",
            " .Total Profit: 3141.7392953220165 ----- .AVG Daily Return: -6.5% ----- .Accumulated Return: 180.46%\n",
            " .Epsilon : 0.9502113461198253\n",
            ".Episode [42]-----------------------\n",
            " .Total Profit: 3251.943847089967 ----- .AVG Daily Return: 3.51% ----- .Accumulated Return: 186.79%\n",
            " .Epsilon : 0.9492611347737054\n",
            ".Episode [43]-----------------------\n",
            " .Total Profit: 3109.735615558374 ----- .AVG Daily Return: -4.37% ----- .Accumulated Return: 178.62%\n",
            " .Epsilon : 0.9483118736389318\n",
            ".Episode [44]-----------------------\n",
            " .Total Profit: 3147.1175066460473 ----- .AVG Daily Return: 1.2% ----- .Accumulated Return: 180.76%\n",
            " .Epsilon : 0.9473635617652928\n",
            ".Episode [45]-----------------------\n",
            " .Total Profit: 3423.351315331421 ----- .AVG Daily Return: 8.78% ----- .Accumulated Return: 196.63%\n",
            " .Epsilon : 0.9464161982035275\n",
            ".Episode [46]-----------------------\n",
            " .Total Profit: 3131.013855816294 ----- .AVG Daily Return: -8.54% ----- .Accumulated Return: 179.84%\n",
            " .Epsilon : 0.9454697820053239\n",
            ".Episode [47]-----------------------\n",
            " .Total Profit: 3109.66693475494 ----- .AVG Daily Return: -0.68% ----- .Accumulated Return: 178.61%\n",
            " .Epsilon : 0.9445243122233187\n",
            ".Episode [48]-----------------------\n",
            " .Total Profit: 3284.852289538221 ----- .AVG Daily Return: 5.63% ----- .Accumulated Return: 188.68%\n",
            " .Epsilon : 0.9435797879110953\n",
            ".Episode [49]-----------------------\n",
            " .Total Profit: 3261.7462845295736 ----- .AVG Daily Return: -0.7% ----- .Accumulated Return: 187.35%\n",
            " .Epsilon : 0.9426362081231843\n",
            ".Episode [50]-----------------------\n",
            " .Total Profit: 2480.8727032988804 ----- .AVG Daily Return: -23.94% ----- .Accumulated Return: 142.5%\n",
            " .Epsilon : 0.9416935719150611\n",
            ".Episode [51]-----------------------\n",
            " .Total Profit: 2602.28397366803 ----- .AVG Daily Return: 4.89% ----- .Accumulated Return: 149.47%\n",
            " .Epsilon : 0.940751878343146\n",
            ".Episode [52]-----------------------\n",
            " .Total Profit: 3261.2344381655084 ----- .AVG Daily Return: 25.32% ----- .Accumulated Return: 187.32%\n",
            " .Epsilon : 0.9398111264648028\n",
            ".Episode [53]-----------------------\n",
            " .Total Profit: 3037.1738910544605 ----- .AVG Daily Return: -6.87% ----- .Accumulated Return: 174.45%\n",
            " .Epsilon : 0.938871315338338\n",
            ".Episode [54]-----------------------\n",
            " .Total Profit: 3452.8177053408526 ----- .AVG Daily Return: 13.69% ----- .Accumulated Return: 198.32%\n",
            " .Epsilon : 0.9379324440229997\n",
            ".Episode [55]-----------------------\n",
            " .Total Profit: 3476.070205445021 ----- .AVG Daily Return: 0.67% ----- .Accumulated Return: 199.66%\n",
            " .Epsilon : 0.9369945115789767\n",
            ".Episode [56]-----------------------\n",
            " .Total Profit: 2415.9075829370004 ----- .AVG Daily Return: -30.5% ----- .Accumulated Return: 138.77%\n",
            " .Epsilon : 0.9360575170673977\n",
            ".Episode [57]-----------------------\n",
            " .Total Profit: 3041.6417153838634 ----- .AVG Daily Return: 25.9% ----- .Accumulated Return: 174.71%\n",
            " .Epsilon : 0.9351214595503303\n",
            ".Episode [58]-----------------------\n",
            " .Total Profit: 3212.21932951474 ----- .AVG Daily Return: 5.61% ----- .Accumulated Return: 184.5%\n",
            " .Epsilon : 0.93418633809078\n",
            ".Episode [59]-----------------------\n",
            " .Total Profit: 2981.515517119865 ----- .AVG Daily Return: -7.18% ----- .Accumulated Return: 171.25%\n",
            " .Epsilon : 0.9332521517526893\n",
            ".Episode [60]-----------------------\n",
            " .Total Profit: 2961.823063654663 ----- .AVG Daily Return: -0.66% ----- .Accumulated Return: 170.12%\n",
            " .Epsilon : 0.9323188996009366\n",
            ".Episode [61]-----------------------\n",
            " .Total Profit: 2901.074489788836 ----- .AVG Daily Return: -2.05% ----- .Accumulated Return: 166.63%\n",
            " .Epsilon : 0.9313865807013356\n",
            ".Episode [62]-----------------------\n",
            " .Total Profit: 2669.7311505733974 ----- .AVG Daily Return: -7.97% ----- .Accumulated Return: 153.34%\n",
            " .Epsilon : 0.9304551941206343\n",
            ".Episode [63]-----------------------\n",
            " .Total Profit: 3166.0917485259943 ----- .AVG Daily Return: 18.59% ----- .Accumulated Return: 181.85%\n",
            " .Epsilon : 0.9295247389265137\n",
            ".Episode [64]-----------------------\n",
            " .Total Profit: 3382.704490200766 ----- .AVG Daily Return: 6.84% ----- .Accumulated Return: 194.3%\n",
            " .Epsilon : 0.9285952141875872\n",
            ".Episode [65]-----------------------\n",
            " .Total Profit: 2823.451629606039 ----- .AVG Daily Return: -16.53% ----- .Accumulated Return: 162.17%\n",
            " .Epsilon : 0.9276666189733996\n",
            ".Episode [66]-----------------------\n",
            " .Total Profit: 3144.6030768965534 ----- .AVG Daily Return: 11.37% ----- .Accumulated Return: 180.62%\n",
            " .Epsilon : 0.9267389523544263\n",
            ".Episode [67]-----------------------\n",
            " .Total Profit: 3257.5965868852218 ----- .AVG Daily Return: 3.59% ----- .Accumulated Return: 187.11%\n",
            " .Epsilon : 0.9258122134020719\n",
            ".Episode [68]-----------------------\n",
            " .Total Profit: 2933.565557655594 ----- .AVG Daily Return: -9.95% ----- .Accumulated Return: 168.5%\n",
            " .Epsilon : 0.9248864011886698\n",
            ".Episode [69]-----------------------\n",
            " .Total Profit: 3101.1137540639666 ----- .AVG Daily Return: 5.71% ----- .Accumulated Return: 178.12%\n",
            " .Epsilon : 0.9239615147874811\n",
            ".Episode [70]-----------------------\n",
            " .Total Profit: 3219.423837815369 ----- .AVG Daily Return: 3.82% ----- .Accumulated Return: 184.92%\n",
            " .Epsilon : 0.9230375532726937\n",
            ".Episode [71]-----------------------\n",
            " .Total Profit: 2779.1631657863077 ----- .AVG Daily Return: -13.68% ----- .Accumulated Return: 159.63%\n",
            " .Epsilon : 0.9221145157194209\n",
            ".Episode [72]-----------------------\n",
            " .Total Profit: 2587.4186975308094 ----- .AVG Daily Return: -6.9% ----- .Accumulated Return: 148.62%\n",
            " .Epsilon : 0.9211924012037015\n",
            ".Episode [73]-----------------------\n",
            " .Total Profit: 2780.4067894300647 ----- .AVG Daily Return: 7.46% ----- .Accumulated Return: 159.7%\n",
            " .Epsilon : 0.9202712088024978\n",
            ".Episode [74]-----------------------\n",
            " .Total Profit: 3242.677556152231 ----- .AVG Daily Return: 16.63% ----- .Accumulated Return: 186.25%\n",
            " .Epsilon : 0.9193509375936953\n",
            ".Episode [75]-----------------------\n",
            " .Total Profit: 2819.246640851763 ----- .AVG Daily Return: -13.06% ----- .Accumulated Return: 161.93%\n",
            " .Epsilon : 0.9184315866561017\n",
            ".Episode [76]-----------------------\n",
            " .Total Profit: 2924.2117892382803 ----- .AVG Daily Return: 3.72% ----- .Accumulated Return: 167.96%\n",
            " .Epsilon : 0.9175131550694456\n",
            ".Episode [77]-----------------------\n",
            " .Total Profit: 2910.967819311212 ----- .AVG Daily Return: -0.45% ----- .Accumulated Return: 167.2%\n",
            " .Epsilon : 0.9165956419143761\n",
            ".Episode [78]-----------------------\n",
            " .Total Profit: 3240.2114096873884 ----- .AVG Daily Return: 11.31% ----- .Accumulated Return: 186.11%\n",
            " .Epsilon : 0.9156790462724618\n",
            ".Episode [79]-----------------------\n",
            " .Total Profit: 2554.583086812394 ----- .AVG Daily Return: -21.16% ----- .Accumulated Return: 146.73%\n",
            " .Epsilon : 0.9147633672261893\n",
            ".Episode [80]-----------------------\n",
            " .Total Profit: 3133.7277350943586 ----- .AVG Daily Return: 22.67% ----- .Accumulated Return: 180.0%\n",
            " .Epsilon : 0.9138486038589632\n",
            ".Episode [81]-----------------------\n",
            " .Total Profit: 3118.5691478426097 ----- .AVG Daily Return: -0.48% ----- .Accumulated Return: 179.13%\n",
            " .Epsilon : 0.9129347552551041\n",
            ".Episode [82]-----------------------\n",
            " .Total Profit: 3244.9093551401957 ----- .AVG Daily Return: 4.05% ----- .Accumulated Return: 186.38%\n",
            " .Epsilon : 0.912021820499849\n",
            ".Episode [83]-----------------------\n",
            " .Total Profit: 2567.1705724746967 ----- .AVG Daily Return: -20.89% ----- .Accumulated Return: 147.45%\n",
            " .Epsilon : 0.9111097986793492\n",
            ".Episode [84]-----------------------\n",
            " .Total Profit: 3172.9632576436416 ----- .AVG Daily Return: 23.6% ----- .Accumulated Return: 182.25%\n",
            " .Epsilon : 0.9101986888806698\n",
            ".Episode [85]-----------------------\n",
            " .Total Profit: 3303.1002516959443 ----- .AVG Daily Return: 4.1% ----- .Accumulated Return: 189.72%\n",
            " .Epsilon : 0.9092884901917891\n",
            ".Episode [86]-----------------------\n",
            " .Total Profit: 2754.4224886157167 ----- .AVG Daily Return: -16.61% ----- .Accumulated Return: 158.21%\n",
            " .Epsilon : 0.9083792017015974\n",
            ".Episode [87]-----------------------\n",
            " .Total Profit: 3322.6735667436647 ----- .AVG Daily Return: 20.63% ----- .Accumulated Return: 190.85%\n",
            " .Epsilon : 0.9074708224998957\n",
            ".Episode [88]-----------------------\n",
            " .Total Profit: 2537.3988633041804 ----- .AVG Daily Return: -23.63% ----- .Accumulated Return: 145.74%\n",
            " .Epsilon : 0.9065633516773959\n",
            ".Episode [89]-----------------------\n",
            " .Total Profit: 2746.0019971549723 ----- .AVG Daily Return: 8.22% ----- .Accumulated Return: 157.73%\n",
            " .Epsilon : 0.9056567883257185\n",
            ".Episode [90]-----------------------\n",
            " .Total Profit: 3109.112056206766 ----- .AVG Daily Return: 13.22% ----- .Accumulated Return: 178.58%\n",
            " .Epsilon : 0.9047511315373927\n",
            ".Episode [91]-----------------------\n",
            " .Total Profit: 2744.0310217120755 ----- .AVG Daily Return: -11.74% ----- .Accumulated Return: 157.61%\n",
            " .Epsilon : 0.9038463804058553\n",
            ".Episode [92]-----------------------\n",
            " .Total Profit: 3361.0890017335173 ----- .AVG Daily Return: 22.49% ----- .Accumulated Return: 193.06%\n",
            " .Epsilon : 0.9029425340254494\n",
            ".Episode [93]-----------------------\n",
            " .Total Profit: 3164.678527405382 ----- .AVG Daily Return: -5.84% ----- .Accumulated Return: 181.77%\n",
            " .Epsilon : 0.902039591491424\n",
            ".Episode [94]-----------------------\n",
            " .Total Profit: 3299.6826372896508 ----- .AVG Daily Return: 4.27% ----- .Accumulated Return: 189.53%\n",
            " .Epsilon : 0.9011375518999326\n",
            ".Episode [95]-----------------------\n",
            " .Total Profit: 3199.0131189954077 ----- .AVG Daily Return: -3.05% ----- .Accumulated Return: 183.75%\n",
            " .Epsilon : 0.9002364143480327\n",
            ".Episode [96]-----------------------\n",
            " .Total Profit: 3136.55601062016 ----- .AVG Daily Return: -1.95% ----- .Accumulated Return: 180.16%\n",
            " .Epsilon : 0.8993361779336847\n",
            ".Episode [97]-----------------------\n",
            " .Total Profit: 2420.0144896174315 ----- .AVG Daily Return: -22.84% ----- .Accumulated Return: 139.0%\n",
            " .Epsilon : 0.898436841755751\n",
            ".Episode [98]-----------------------\n",
            " .Total Profit: 2442.4867015938335 ----- .AVG Daily Return: 0.93% ----- .Accumulated Return: 140.29%\n",
            " .Epsilon : 0.8975384049139953\n",
            ".Episode [99]-----------------------\n",
            " .Total Profit: 2893.0718117600495 ----- .AVG Daily Return: 18.45% ----- .Accumulated Return: 166.17%\n",
            " .Epsilon : 0.8966408665090813\n",
            "Max profit in each episode:  [3156.5360987387885, 2773.960405612805, 2823.3067925168307, 3514.5833059471693, 2557.712194182012, 2921.6183525150846, 2377.1986900085503, 2978.71086711213, 2963.5610363676674, 2966.910539077701, 2901.176824595336, 2999.163800759756, 2750.388329766544, 2632.5779235973646, 3078.291410557768, 3149.9590300713135, 2969.429960848854, 2728.7706217183904, 3545.75549818906, 3198.527596519599, 3009.3841717947807, 2156.091858556184, 2528.082443917432, 3236.0090017316365, 2185.564592281983, 2936.2547317313756, 2735.776462528823, 3398.5394570641156, 2631.8374710237713, 3373.6707921167617, 2766.3888017316553, 2309.7144173826237, 2942.3889655108533, 2545.4474855050144, 2491.713758974856, 2769.446830767585, 3090.4895356430056, 3182.366873592122, 2846.855896135937, 2526.918687813521, 3360.2797182237637, 3141.7392953220165, 3251.943847089967, 3109.735615558374, 3147.1175066460473, 3423.351315331421, 3131.013855816294, 3109.66693475494, 3284.852289538221, 3261.7462845295736, 2480.8727032988804, 2602.28397366803, 3261.2344381655084, 3037.1738910544605, 3452.8177053408526, 3476.070205445021, 2415.9075829370004, 3041.6417153838634, 3212.21932951474, 2981.515517119865, 2961.823063654663, 2901.074489788836, 2669.7311505733974, 3166.0917485259943, 3382.704490200766, 2823.451629606039, 3144.6030768965534, 3257.5965868852218, 2933.565557655594, 3101.1137540639666, 3219.423837815369, 2779.1631657863077, 2587.4186975308094, 2780.4067894300647, 3242.677556152231, 2819.246640851763, 2924.2117892382803, 2910.967819311212, 3240.2114096873884, 2554.583086812394, 3133.7277350943586, 3118.5691478426097, 3244.9093551401957, 2567.1705724746967, 3172.9632576436416, 3303.1002516959443, 2754.4224886157167, 3322.6735667436647, 2537.3988633041804, 2746.0019971549723, 3109.112056206766, 2744.0310217120755, 3361.0890017335173, 3164.678527405382, 3299.6826372896508, 3199.0131189954077, 3136.55601062016, 2420.0144896174315, 2442.4867015938335, 2893.0718117600495]\n",
            ".Total of Profit in entire transition 3545.75549818906\n",
            ".The Highest episode gain: 18\n",
            ".Highest Profit in each transition : 3520.387103028975\n",
            ".Max_action_list : [0, 0, 1, 0, 0, 1, 1, 1, 0, 0, 1, 1, 0, 0, 1, 1, 0, 1, 1, 1, 1, 0, 1, 0, 1, 0, 1, 0, 0, 0, 1, 0, 0, 1, 0, 0, 1, 1, 0, 1, 1, 0, 1, 0, 0, 1, 1, 1, 1, 0, 0, 1, 0, 0, 1, 1, 1, 0, 1, 1, 1, 1, 0, 1, 1, 0, 1, 1, 0, 0, 1, 0, 1, 1, 1, 0, 0, 1, 1, 0, 1, 1, 0, 1, 1, 1, 1, 0, 0, 0, 1, 0, 0, 0, 1, 0, 1, 0, 0, 0, 1, 1, 1, 1, 1, 0, 0, 0, 0, 0, 1, 1, 0, 0, 1, 0, 0, 0, 1, 0, 1, 0, 1, 0, 0, 1, 1, 1, 1, 1, 1, 1, 1, 0, 0, 0, 1, 0, 1, 0, 0, 1, 1, 0, 1, 0, 1, 0, 1, 0, 1, 1, 1, 1, 0, 0, 1, 1, 0, 0, 0, 0, 0, 1, 1, 1, 1, 1, 1, 0, 1, 1, 1, 1, 0, 0, 0, 1, 0, 1, 0, 1, 1, 0, 0, 0, 0, 0, 0, 0, 0, 0, 0, 1, 0, 1, 0, 1, 0, 0, 1, 1, 0, 0, 0, 1, 1, 0, 1, 0, 0, 1, 0, 1, 1, 1, 1, 1, 0, 1, 0, 1, 0, 1, 0, 1, 0, 0, 0, 1, 1, 0, 1, 0, 1, 0, 0, 0, 0, 0, 1, 0, 0, 1, 0, 1, 1, 1, 1, 1, 0, 1, 0, 1, 0, 0, 0, 1, 0, 1, 1, 1, 2, 1, 0, 0, 1, 1, 0, 1, 0, 0, 0, 0, 0, 1, 1, 1, 0, 2, 1, 0, 0, 0, 0, 0, 1, 0, 1, 1, 0, 1, 0, 0, 1, 1, 1, 1, 1, 1, 0, 1, 0, 1, 1, 1, 1, 0, 1, 1, 0, 1, 1, 1, 1, 0, 0, 1, 1, 1, 0, 1, 0, 1, 0, 0, 0, 1, 0, 1, 0, 1, 0, 1, 0, 1, 0, 0, 0, 0, 1, 2, 0, 1, 0, 1, 0, 0, 1, 1, 0, 1, 1, 1, 0, 0, 0, 1, 1, 0, 1, 1, 0, 0, 1]\n",
            ".List Profit of Max : [0, 0, 0, 0, 0, 0, 0, 0, 0, 0, 0, 505.06147004358286, 505.06147004358286, 505.06147004358286, 760.4000653506832, 760.4000653506832, 760.4000653506832, 760.4000653506832, 760.4000653506832, 760.4000653506832, 760.4000653506832, 760.4000653506832, 760.4000653506832, 760.4000653506832, 760.4000653506832, 760.4000653506832, 1006.5003569472312, 1006.5003569472312, 1006.5003569472312, 1006.5003569472312, 1538.3559225855618, 1538.3559225855618, 1538.3559225855618, 1591.2159302309055, 1591.2159302309055, 1591.2159302309055, 1610.5403929996949, 1610.5403929996949, 1610.5403929996949, 1860.4508590549583, 1860.4508590549583, 1860.4508590549583, 1860.4508590549583, 1860.4508590549583, 1860.4508590549583, 1874.6830607630882, 1874.6830607630882, 1874.6830607630882, 1874.6830607630882, 1874.6830607630882, 1874.6830607630882, 1932.981305088953, 1932.981305088953, 1932.981305088953, 1932.981305088953, 1932.981305088953, 1932.981305088953, 1932.981305088953, 2179.589171254051, 2179.589171254051, 2179.589171254051, 2179.589171254051, 2179.589171254051, 2179.589171254051, 2179.589171254051, 2179.589171254051, 2179.589171254051, 2179.589171254051, 2179.589171254051, 2179.589171254051, 2236.430193024395, 2236.430193024395, 2236.430193024395, 2236.430193024395, 2236.430193024395, 2236.430193024395, 2236.430193024395, 2236.430193024395, 2236.430193024395, 2236.430193024395, 2371.5504369892933, 2371.5504369892933, 2371.5504369892933, 2416.0062297089676, 2416.0062297089676, 2416.0062297089676, 2416.0062297089676, 2416.0062297089676, 2416.0062297089676, 2416.0062297089676, 2440.468176973761, 2440.468176973761, 2440.468176973761, 2440.468176973761, 2440.468176973761, 2440.468176973761, 2440.468176973761, 2440.468176973761, 2440.468176973761, 2440.468176973761, 2440.468176973761, 2440.468176973761, 2440.468176973761, 2440.468176973761, 2440.468176973761, 2440.468176973761, 2440.468176973761, 2440.468176973761, 2440.468176973761, 2440.468176973761, 2440.468176973761, 2440.468176973761, 2440.468176973761, 2440.468176973761, 2506.3554875614027, 2506.3554875614027, 2506.3554875614027, 2506.3554875614027, 2529.2857570601964, 2529.2857570601964, 2529.2857570601964, 2529.2857570601964, 2529.2857570601964, 2529.2857570601964, 2529.2857570601964, 2529.2857570601964, 2529.2857570601964, 2529.2857570601964, 2667.2032470408776, 2667.2032470408776, 2667.2032470408776, 2667.2032470408776, 2667.2032470408776, 2667.2032470408776, 2667.2032470408776, 2667.2032470408776, 2667.2032470408776, 2667.2032470408776, 2667.2032470408776, 2667.2032470408776, 2667.2032470408776, 2667.2032470408776, 2667.2032470408776, 2667.2032470408776, 2704.9893758346684, 2704.9893758346684, 2704.9893758346684, 2704.9893758346684, 2704.9893758346684, 2704.9893758346684, 2704.9893758346684, 2704.9893758346684, 2704.9893758346684, 2767.1520319156602, 2767.1520319156602, 2767.1520319156602, 2767.1520319156602, 2767.1520319156602, 2767.1520319156602, 2767.1520319156602, 2767.1520319156602, 2767.1520319156602, 2767.1520319156602, 2801.3045207029554, 2801.3045207029554, 2801.3045207029554, 2801.3045207029554, 2801.3045207029554, 2801.3045207029554, 2801.3045207029554, 2832.4718523213865, 2832.4718523213865, 2832.4718523213865, 2832.4718523213865, 2832.4718523213865, 2832.4718523213865, 2832.4718523213865, 2832.4718523213865, 2832.4718523213865, 2897.09480779675, 2897.09480779675, 2897.09480779675, 2897.09480779675, 2897.09480779675, 2897.09480779675, 2897.09480779675, 2897.09480779675, 2897.09480779675, 2897.09480779675, 2897.09480779675, 2897.09480779675, 2897.09480779675, 2897.09480779675, 2897.09480779675, 2897.09480779675, 2897.09480779675, 2897.09480779675, 2897.09480779675, 2897.09480779675, 2897.09480779675, 2897.09480779675, 2897.09480779675, 2897.09480779675, 2897.09480779675, 2897.09480779675, 2897.09480779675, 3079.980960944926, 3079.980960944926, 3079.980960944926, 3079.980960944926, 3079.980960944926, 3089.8692104547245, 3089.8692104547245, 3089.8692104547245, 3089.8692104547245, 3089.8692104547245, 3089.8692104547245, 3089.8692104547245, 3089.8692104547245, 3089.8692104547245, 3089.8692104547245, 3089.8692104547245, 3089.8692104547245, 3132.103577394333, 3132.103577394333, 3132.103577394333, 3132.103577394333, 3132.103577394333, 3132.103577394333, 3144.873200330662, 3144.873200330662, 3144.873200330662, 3160.5479655319127, 3160.5479655319127, 3160.5479655319127, 3160.5479655319127, 3160.5479655319127, 3160.5479655319127, 3160.5479655319127, 3160.5479655319127, 3160.5479655319127, 3160.5479655319127, 3160.5479655319127, 3160.5479655319127, 3160.5479655319127, 3161.30112324833, 3161.30112324833, 3161.30112324833, 3161.30112324833, 3161.30112324833, 3161.30112324833, 3175.6218498377057, 3175.6218498377057, 3175.6218498377057, 3175.6218498377057, 3175.6218498377057, 3175.6218498377057, 3207.2582349867316, 3207.2582349867316, 3207.2582349867316, 3207.2582349867316, 3207.2582349867316, 3207.2582349867316, 3207.2582349867316, 3207.2582349867316, 3207.2582349867316, 3207.2582349867316, 3207.2582349867316, 3207.2582349867316, 3207.9201379790115, 3207.9201379790115, 3207.9201379790115, 3207.9201379790115, 3207.9201379790115, 3207.9201379790115, 3207.9201379790115, 3215.8058892592553, 3215.8058892592553, 3215.8058892592553, 3215.8058892592553, 3215.8058892592553, 3215.8058892592553, 3215.8058892592553, 3215.8058892592553, 3215.8058892592553, 3215.8058892592553, 3276.540865391759, 3276.540865391759, 3276.540865391759, 3276.540865391759, 3276.540865391759, 3276.540865391759, 3276.540865391759, 3276.540865391759, 3276.540865391759, 3276.540865391759, 3279.7860251363304, 3279.7860251363304, 3279.7860251363304, 3279.7860251363304, 3279.7860251363304, 3279.7860251363304, 3279.7860251363304, 3279.7860251363304, 3279.7860251363304, 3300.0754332931524, 3300.0754332931524, 3300.0754332931524, 3348.171495231937, 3348.171495231937, 3348.171495231937, 3348.171495231937, 3348.171495231937, 3348.171495231937, 3348.171495231937, 3348.171495231937, 3348.171495231937, 3373.5583842565716, 3373.5583842565716, 3373.5583842565716, 3373.5583842565716, 3373.5583842565716, 3373.5583842565716, 3375.9241811752004, 3375.9241811752004, 3375.9241811752004, 3375.9241811752004, 3381.7188352956596, 3381.7188352956596, 3381.7188352956596, 3381.7188352956596, 3401.027991631099, 3401.027991631099, 3401.027991631099, 3401.027991631099, 3401.027991631099, 3401.027991631099, 3401.027991631099, 3401.027991631099, 3401.027991631099, 3404.949028055719, 3404.949028055719, 3404.949028055719, 3408.6394144044248, 3408.6394144044248, 3424.886248790466, 3424.886248790466, 3424.886248790466, 3450.940821385935, 3450.940821385935, 3450.940821385935, 3450.940821385935, 3450.940821385935, 3485.133173884812, 3485.133173884812, 3485.133173884812, 3485.133173884812, 3485.133173884812, 3520.387103028975, 3520.387103028975, 3520.387103028975, 3520.387103028975, 3520.387103028975, 3520.387103028975, 3520.387103028975]\n",
            "....Initial Investment : 100\n",
            "....After Investment : 303.5179199065321\n",
            "Increase/Decrease by percentage : 203.66200449104306\n"
          ]
        }
      ],
      "source": [
        "#\n",
        "q_table = np.random.uniform(low=-2, high=0, size=(agent.size_state, agent.size_action))\n",
        "agent.q_t = q_table\n",
        "reward = 0\n",
        "total_episodes = 100\n",
        "learning_rate = agent.lr                  \n",
        "gamma = agent.gamma                  \n",
        "             \n",
        "Close_predict = predicted_prices[:,0]\n",
        "total_profit = 0\n",
        "\n",
        "agent.epsilon = 0.99\n",
        "agent.epsilon_min = 0.01\n",
        "agent.epsilon_decay = 0.999\n",
        "Thredshold = 0.1\n",
        "\n",
        "Highest_profit = 0\n",
        "list_profit_t = []\n",
        "max_action_list = []\n",
        "max_profit_list = []\n",
        "max_reward = 0\n",
        "max_profit = 0\n",
        "max_episode = 0\n",
        "max_episode = 0\n",
        "for episode in range(total_episodes):\n",
        "  action_list = []\n",
        "  profit_list = []\n",
        "  agent.Sold_prices = []\n",
        "  state = 0\n",
        "  step = 0\n",
        "  reward = 0\n",
        "  total_profit = 0\n",
        "  Highest_profit_temp = 0\n",
        "  agent.Profit = 0\n",
        "  done = False\n",
        "  print(\".Episode [{}]-----------------------\" .format(episode))\n",
        "\n",
        "  for step in range(0,agent.size_state-1):\n",
        "    agent.q_t[state,:] = q_table[state,:]\n",
        "    action = agent.action(q_table[state,:])\n",
        "    next_state = agent.Get_State(step)\n",
        "\n",
        "    if agent.trend_data[step] == 1 :\n",
        "      if action == 0:\n",
        "        if len(agent.Sold_prices) == 0: #Buy, Trend Tăng\n",
        "          agent.Sold_prices.append(Close_predict[step]) # Close_prices\n",
        "          # print(\".Day [{}]---------------------------\".format(step))\n",
        "          # print(\"Buy :\",Close_predict[step])\n",
        "          # print(\" _.Trend Line : {}\".format(\"Increase\" if agent.trend_data[step] == 1 else \"Decrease\"))\n",
        "          # print(\"-----------------------------------------------------------------\")\n",
        "\n",
        "    elif agent.trend_data[step] == 0:\n",
        "      if action == 1:\n",
        "        if len(agent.Sold_prices) == 1: #Sell Trend Giảm\n",
        "          agent.Bought_prices = agent.Sold_prices.pop(0)\n",
        "          if agent.Close_prices_real[step] > agent.Bought_prices:\n",
        "            agent.Profit += (agent.Close_prices_real[step] - agent.Bought_prices)*Ns\n",
        "            reward = max((agent.Close_prices_real[step] - agent.Bought_prices)*Ns,0)\n",
        "            # print(\".Day [{}]---------------------------\".format(step))\n",
        "            # print(\" .Sell: {} | Profit: ({} - {})*{} = {}\".format(agent.Bought_prices,agent.Close_prices_real[step],agent.Bought_prices,Ns,(agent.Close_prices_real[step] - agent.Bought_prices)*Ns))\n",
        "            # print(\" _.Trend Line : {}\".format(\"Increase\" if agent.trend_data[step] == 1 else \"Decrease\"))\n",
        "            # print(\"-----------------------------------------------------------------\")\n",
        "\n",
        "    q_table[state,action] = q_table[state,action] + agent.lr*(reward + agent.gamma*np.max(q_table[next_state,:]) - q_table[state,action])\n",
        "\n",
        "    state = next_state    \n",
        "    profit_list.append(agent.Profit)\n",
        "    action_list.append(action)\n",
        "    \n",
        "    if Highest_profit_temp < agent.Profit:\n",
        "      Highest_profit_temp = agent.Profit\n",
        "\n",
        "    done = True if step == (len(predicted_prices)-2) else False\n",
        "    if done:\n",
        "      while len(agent.Sold_prices) > 0:\n",
        "        agent.Bought_prices = agent.Sold_prices.pop(0)\n",
        "        if agent.Close_prices_real[step] > agent.Bought_prices:\n",
        "          agent.Profit += (agent.Close_prices_real[step] - agent.Bought_prices)*Ns\n",
        "          # print(\".Day [{}]---------------------------\".format(step))\n",
        "          # print(\" .Sell: {} | Profit: ({} - {})*{} = {}\".format(agent.Bought_prices,Open_prices[step],agent.Bought_prices,Ns,(Open_prices[step] - agent.Bought_prices)*Ns))\n",
        "        break\n",
        "      if agent.Profit > max_profit: \n",
        "        max_profit = agent.Profit\n",
        "        max_action_list = action_list\n",
        "        max_profit_list = profit_list\n",
        "        Highest_profit = Highest_profit_temp\n",
        "        max_episode = episode\n",
        "      list_profit_t.append(agent.Profit)\n",
        "      temp_list_profit_t = np.array(list_profit_t)\n",
        "      Length_temp = len(temp_list_profit_t)\n",
        "      print(\" .Total Profit: {} ----- .AVG Daily Return: {}% ----- .Accumulated Return: {}%\".format(agent.Profit, Average_day(temp_list_profit_t[Length_temp-1],temp_list_profit_t[Length_temp-2]),np.round(Accumulated_return(agent.Profit+Ns,Ns),2)))\n",
        "      print(\" .Epsilon :\",agent.epsilon)\n",
        "    # if agent.epsilon < Thredshold:\n",
        "    #   agent.epsilon = 0.99\n",
        "  if agent.epsilon > agent.epsilon_min:\n",
        "    agent.epsilon = agent.epsilon * agent.epsilon_decay\n",
        "\n",
        "print(\"Max profit in each episode: \", list_profit_t)\n",
        "print(\".Total of Profit in entire transition\",max_profit)\n",
        "print(\".The Highest episode gain: {}\".format(max_episode))\n",
        "print(\".Highest Profit in each transition :\", Highest_profit)\n",
        "print(\".Max_action_list :\", max_action_list)\n",
        "print(\".List Profit of Max :\",max_profit_list)\n",
        "print(\"....Initial Investment : {}\".format(agent.CRV))\n",
        "print(\"....After Investment : {}\".format((max_profit+Ns)*agent.Open_prices))\n",
        "print(\"Increase/Decrease by percentage : {}\".format(((max_profit)/Ns)*100))"
      ]
    },
    {
      "cell_type": "markdown",
      "metadata": {
        "id": "j6vo1PCT19mw"
      },
      "source": [
        "###GRAPH"
      ]
    },
    {
      "cell_type": "code",
      "execution_count": 70,
      "metadata": {
        "id": "6a-oyIoB19mx",
        "colab": {
          "base_uri": "https://localhost:8080/",
          "height": 295
        },
        "outputId": "4573420a-0ddc-4425-f765-8d932017896e"
      },
      "outputs": [
        {
          "output_type": "display_data",
          "data": {
            "text/plain": [
              "<Figure size 432x288 with 1 Axes>"
            ],
            "image/png": "[encoded data removed]"
          },
          "metadata": {
            "needs_background": "light"
          }
        }
      ],
      "source": [
        "Graph()"
      ]
    },
    {
      "cell_type": "markdown",
      "metadata": {
        "id": "E974mA4H19mx"
      },
      "source": [
        "###Accuracy of profit between IDEAL and MDP"
      ]
    },
    {
      "cell_type": "code",
      "execution_count": 71,
      "metadata": {
        "id": "th_0WJeh19my",
        "colab": {
          "base_uri": "https://localhost:8080/"
        },
        "outputId": "296bc159-a695-4bd9-bf8a-8fbd29ea8875"
      },
      "outputs": [
        {
          "output_type": "stream",
          "name": "stdout",
          "text": [
            "Accuracy of Profit: [72.46]%\n"
          ]
        }
      ],
      "source": [
        "print(\"Accuracy of Profit: {}%\".format(Accuracy(TP,max_profit)))"
      ]
    },
    {
      "cell_type": "markdown",
      "metadata": {
        "id": "1pMz6Np615Og"
      },
      "source": [
        ""
      ]
    },
    {
      "cell_type": "markdown",
      "source": [
        "###Drawdown of profit over processing of model above"
      ],
      "metadata": {
        "id": "3uQR5-dSz2oU"
      }
    },
    {
      "cell_type": "code",
      "source": [
        "Pmax = max_profit\n",
        "Pt = np.array(list_profit_t)\n",
        "print(\"Drawdown of entire profit over processing: {}%\".format(np.round(Drawdown(Pmax,Pt,len(Pt)),2)))"
      ],
      "metadata": {
        "colab": {
          "base_uri": "https://localhost:8080/"
        },
        "outputId": "8eb46076-2151-42a9-8b24-39a38bf0962b",
        "id": "hnedouwWzYzM"
      },
      "execution_count": 72,
      "outputs": [
        {
          "output_type": "stream",
          "name": "stdout",
          "text": [
            "Drawdown of entire profit over processing: 39.19%\n"
          ]
        }
      ]
    },
    {
      "cell_type": "markdown",
      "source": [
        "###Accumulated Return of highest investment"
      ],
      "metadata": {
        "id": "EixjjmxtDNYD"
      }
    },
    {
      "cell_type": "code",
      "source": [
        "Accumulated = np.round(Accumulated_return(max_profit+Ns,Ns),2)\n",
        "print(\"Accumulated Return: {}%\".format(Accumulated))"
      ],
      "metadata": {
        "colab": {
          "base_uri": "https://localhost:8080/"
        },
        "outputId": "752ec4f1-f376-4cad-d70f-ce674261b24b",
        "id": "F89B0EtlDNYE"
      },
      "execution_count": 73,
      "outputs": [
        {
          "output_type": "stream",
          "name": "stdout",
          "text": [
            "Accumulated Return: 203.66%\n"
          ]
        }
      ]
    }
  ],
  "metadata": {
    "accelerator": "GPU",
    "colab": {
      "collapsed_sections": [],
      "name": "02_Model_Predict_Stock_Prices_by_Q-table and LSTM (Final).ipynb",
      "provenance": []
    },
    "gpuClass": "standard",
    "interpreter": {
      "hash": "bfb4883d108fc92ac768439090a2e92bb9a1f760a54beeecfd6762b5dcd70fe3"
    },
    "kernelspec": {
      "display_name": "Python 3.10.2 64-bit",
      "language": "python",
      "name": "python3"
    },
    "language_info": {
      "codemirror_mode": {
        "name": "ipython",
        "version": 3
      },
      "file_extension": ".py",
      "mimetype": "text/x-python",
      "name": "python",
      "nbconvert_exporter": "python",
      "pygments_lexer": "ipython3",
      "version": "3.10.2"
    }
  },
  "nbformat": 4,
  "nbformat_minor": 0
}